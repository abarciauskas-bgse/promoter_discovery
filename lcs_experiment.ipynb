{
 "cells": [
  {
   "cell_type": "code",
   "execution_count": 2,
   "metadata": {
    "collapsed": true
   },
   "outputs": [],
   "source": [
    "import matplotlib.mlab as mlab\n",
    "import matplotlib.pyplot as plt\n",
    "import random"
   ]
  },
  {
   "cell_type": "code",
   "execution_count": 3,
   "metadata": {
    "collapsed": false
   },
   "outputs": [
    {
     "name": "stdout",
     "output_type": "stream",
     "text": [
      "('Generated X with shape ', (347698, 1000))\n",
      "('Generated y with shape ', (347698,))\n"
     ]
    }
   ],
   "source": [
    "execfile('ML_Challenge_data_preprocessing.py')"
   ]
  },
  {
   "cell_type": "code",
   "execution_count": 4,
   "metadata": {
    "collapsed": false
   },
   "outputs": [
    {
     "name": "stdout",
     "output_type": "stream",
     "text": [
      "Labels are: 0 and 0\n"
     ]
    }
   ],
   "source": [
    "first_seq_label, second_seq_label = [y[9],y[5]]\n",
    "print 'Labels are: ' + str(first_seq_label) + ' and ' + str(second_seq_label)"
   ]
  },
  {
   "cell_type": "code",
   "execution_count": 6,
   "metadata": {
    "collapsed": false
   },
   "outputs": [
    {
     "name": "stdout",
     "output_type": "stream",
     "text": [
      "Start of seq1: ['G' 'C' 'T' 'G' 'G']\n",
      "Start of seq2: ['T' 'T' 'G' 'G' 'C']\n",
      "Score for longest common subsequence: 655.0\n"
     ]
    }
   ],
   "source": [
    "execfile('longest_common_subsequence.py')\n",
    "seq1, seq2 = X[9], X[5]\n",
    "print 'Start of seq1: ' + str(seq1[0:5])\n",
    "print 'Start of seq2: ' + str(seq2[0:5])\n",
    "\n",
    "score = longest_common_subsequence_score(seq1, seq2)\n",
    "print 'Score for longest common subsequence: ' + str(score)"
   ]
  },
  {
   "cell_type": "code",
   "execution_count": 7,
   "metadata": {
    "collapsed": false
   },
   "outputs": [
    {
     "name": "stdout",
     "output_type": "stream",
     "text": [
      "(274299, 1000)\n",
      "(73399, 1000)\n"
     ]
    }
   ],
   "source": [
    "# split into promotors and enhancers\n",
    "promoter_idcs = (y == 0).nonzero()[0]\n",
    "num_promoters = len(promoter_idcs)\n",
    "enhancer_idcs = (y == 1).nonzero()[0]\n",
    "num_enhancers = len(enhancer_idcs)\n",
    "assert(num_promoters + num_enhancers == X.shape[0])\n",
    "promoter_X = X[promoter_idcs,]\n",
    "enhancer_X = X[enhancer_idcs,]\n",
    "print promoter_X.shape\n",
    "print enhancer_X.shape"
   ]
  },
  {
   "cell_type": "code",
   "execution_count": 8,
   "metadata": {
    "collapsed": true
   },
   "outputs": [],
   "source": [
    "def compute_scores(num_pairs, X1, X2):\n",
    "    scores = []\n",
    "    for i in range(num_pairs):\n",
    "        if i % 5 == 0: print 'Evaluating pair ' + str(i)\n",
    "        random_idx1 = int(random.random()*X1.shape[0])\n",
    "        random_idx2 = int(random.random()*X2.shape[0])\n",
    "        # although this doesn't matter if X1 != X2\n",
    "        assert(random_idx1 != random_idx2)\n",
    "        seq1 = X1[random_idx1]\n",
    "        seq2 = X2[random_idx2]\n",
    "        score = longest_common_subsequence_score(seq1, seq2)\n",
    "        scores.append(score)\n",
    "    return scores"
   ]
  },
  {
   "cell_type": "code",
   "execution_count": 9,
   "metadata": {
    "collapsed": false
   },
   "outputs": [
    {
     "name": "stdout",
     "output_type": "stream",
     "text": [
      "Evaluating pair 0\n",
      "Evaluating pair 5\n",
      "Evaluating pair 10\n",
      "Evaluating pair 15\n",
      "Evaluating pair 20\n",
      "Evaluating pair 25\n",
      "Evaluating pair 30\n",
      "Evaluating pair 35\n",
      "Evaluating pair 40\n",
      "Evaluating pair 45\n",
      "Evaluating pair 50\n",
      "Evaluating pair 55\n",
      "Evaluating pair 60\n",
      "Evaluating pair 65\n",
      "Evaluating pair 70\n",
      "Evaluating pair 75\n",
      "Evaluating pair 80\n",
      "Evaluating pair 85\n",
      "Evaluating pair 90\n",
      "Evaluating pair 95\n",
      "[622.0, 627.0, 634.0, 628.0, 622.0, 619.0, 635.0, 633.0, 635.0, 658.0]\n"
     ]
    }
   ],
   "source": [
    "num_pairs = 100\n",
    "both_label0_seq_scores = compute_scores(num_pairs, promoter_X, promoter_X)\n",
    "print both_label0_seq_scores[0:10]"
   ]
  },
  {
   "cell_type": "code",
   "execution_count": 10,
   "metadata": {
    "collapsed": false
   },
   "outputs": [
    {
     "name": "stdout",
     "output_type": "stream",
     "text": [
      "Evaluating pair 0\n",
      "Evaluating pair 5\n",
      "Evaluating pair 10\n",
      "Evaluating pair 15\n",
      "Evaluating pair 20\n",
      "Evaluating pair 25\n",
      "Evaluating pair 30\n",
      "Evaluating pair 35\n",
      "Evaluating pair 40\n",
      "Evaluating pair 45\n",
      "Evaluating pair 50\n",
      "Evaluating pair 55\n",
      "Evaluating pair 60\n",
      "Evaluating pair 65\n",
      "Evaluating pair 70\n",
      "Evaluating pair 75\n",
      "Evaluating pair 80\n",
      "Evaluating pair 85\n",
      "Evaluating pair 90\n",
      "Evaluating pair 95\n",
      "[608.0, 622.0, 641.0, 664.0, 635.0, 603.0, 629.0, 601.0, 624.0, 634.0]\n"
     ]
    }
   ],
   "source": [
    "both_label1_seq_scores = compute_scores(num_pairs, enhancer_X, enhancer_X)\n",
    "print both_label1_seq_scores[0:10]"
   ]
  },
  {
   "cell_type": "code",
   "execution_count": 11,
   "metadata": {
    "collapsed": false
   },
   "outputs": [
    {
     "name": "stdout",
     "output_type": "stream",
     "text": [
      "Evaluating pair 0\n",
      "Evaluating pair 5\n",
      "Evaluating pair 10\n",
      "Evaluating pair 15\n",
      "Evaluating pair 20\n",
      "Evaluating pair 25\n",
      "Evaluating pair 30\n",
      "Evaluating pair 35\n",
      "Evaluating pair 40\n",
      "Evaluating pair 45\n",
      "Evaluating pair 50\n",
      "Evaluating pair 55\n",
      "Evaluating pair 60\n",
      "Evaluating pair 65\n",
      "Evaluating pair 70\n",
      "Evaluating pair 75\n",
      "Evaluating pair 80\n",
      "Evaluating pair 85\n",
      "Evaluating pair 90\n",
      "Evaluating pair 95\n",
      "[553.0, 629.0, 609.0, 566.0, 641.0, 602.0, 628.0, 630.0, 604.0, 586.0]\n"
     ]
    }
   ],
   "source": [
    "diff_label_seq_scores = compute_scores(num_pairs, enhancer_X, promoter_X)\n",
    "print diff_label_seq_scores[0:10]"
   ]
  },
  {
   "cell_type": "code",
   "execution_count": 12,
   "metadata": {
    "collapsed": false
   },
   "outputs": [
    {
     "data": {
      "image/png": "[encoded data removed]",
      "text/plain": [
       "<matplotlib.figure.Figure at 0x106ae58d0>"
      ]
     },
     "metadata": {},
     "output_type": "display_data"
    },
    {
     "data": {
      "image/png": "[encoded data removed]",
      "text/plain": [
       "<matplotlib.figure.Figure at 0x106ae5910>"
      ]
     },
     "metadata": {},
     "output_type": "display_data"
    },
    {
     "data": {
      "image/png": "[encoded data removed]",
      "text/plain": [
       "<matplotlib.figure.Figure at 0x14f782810>"
      ]
     },
     "metadata": {},
     "output_type": "display_data"
    }
   ],
   "source": [
    "%matplotlib inline\n",
    "\n",
    "def plot_lcs_lengths(seq_lengths):\n",
    "    n, bins, patches = plt.hist(seq_lengths, 20, normed=1, facecolor='green', alpha=0.75)\n",
    "    mu = np.mean(seq_lengths)\n",
    "    sigma = np.std(seq_lengths)\n",
    "    plt.title(r'$\\mathrm{Histogram\\ of\\ Different\\ Label\\ LCS\\ Lengths\\ :}\\ \\mu='\n",
    "              '' + str(mu) + ',\\ \\sigma=' + str(sigma) + '$')\n",
    "    # Note: there is a value lower, ths has cut some extremes\n",
    "    plt.grid(True)\n",
    "    plt.show()\n",
    "\n",
    "plot_lcs_lengths(both_label0_seq_scores)\n",
    "plot_lcs_lengths(both_label1_seq_scores)\n",
    "plot_lcs_lengths(diff_label_seq_scores)"
   ]
  },
  {
   "cell_type": "code",
   "execution_count": 13,
   "metadata": {
    "collapsed": true
   },
   "outputs": [],
   "source": [
    "import numpy as np\n",
    "\n",
    "def classify(sequence, num_comparisons,\n",
    "             num_neighbors = 10.0,\n",
    "             stat = 'majority_vote',\n",
    "             alignment_algorithm = 'longest_common_subsequence_score'):\n",
    "    random_promoter_indcs = np.random.choice(len(promoter_X), num_comparisons)\n",
    "    random_enhancer_indcs = np.random.choice(len(enhancer_X), num_comparisons)\n",
    "    enhancer_scores = []\n",
    "    promoter_scores = []\n",
    "    for i in range(num_comparisons):\n",
    "        enhancer = enhancer_X[random_enhancer_indcs[i],:]\n",
    "        score_enh = eval(alignment_algorithm + '(enhancer, sequence)')\n",
    "        enhancer_scores.append(score_enh)\n",
    "        promoter = promoter_X[random_promoter_indcs[i],:]   \n",
    "        score_prom = eval(alignment_algorithm + '(promoter, sequence)')\n",
    "        promoter_scores.append(score_prom)\n",
    "    promoter_scores.sort()\n",
    "    enhancer_scores.sort()    \n",
    "    votes_promoter = 0.0\n",
    "    for i in range(int(num_neighbors)):\n",
    "        if promoter_scores[i] > enhancer_scores[i]: votes_promoter += 1\n",
    "    return 0 if round(votes_promoter/num_neighbors) == 1.0 else 1"
   ]
  },
  {
   "cell_type": "code",
   "execution_count": 14,
   "metadata": {
    "collapsed": false
   },
   "outputs": [
    {
     "name": "stdout",
     "output_type": "stream",
     "text": [
      "True class is 0\n",
      "Predicted class is: 1\n",
      "\n",
      "True class is 0\n",
      "Predicted class is: 0\n",
      "\n",
      "True class is 0\n",
      "Predicted class is: 0\n",
      "\n",
      "True class is 0\n",
      "Predicted class is: 0\n",
      "\n",
      "True class is 0\n",
      "Predicted class is: 1\n",
      "\n",
      "True class is 0\n",
      "Predicted class is: 0\n",
      "\n",
      "True class is 1\n",
      "Predicted class is: 1\n",
      "\n",
      "True class is 1\n",
      "Predicted class is: 1\n",
      "\n",
      "True class is 1\n",
      "Predicted class is: 1\n",
      "\n",
      "True class is 1\n",
      "Predicted class is: 0\n",
      "\n",
      "True class is 0\n",
      "Predicted class is: 1\n",
      "\n",
      "True class is 0\n",
      "Predicted class is: 0\n",
      "\n",
      "True class is 0\n",
      "Predicted class is: 0\n",
      "\n",
      "True class is 1\n",
      "Predicted class is: 1\n",
      "\n",
      "True class is 0\n",
      "Predicted class is: 0\n",
      "\n",
      "True class is 1\n",
      "Predicted class is: 1\n",
      "\n",
      "True class is 0\n",
      "Predicted class is: 0\n",
      "\n",
      "True class is 1\n"
     ]
    },
    {
     "ename": "KeyboardInterrupt",
     "evalue": "",
     "output_type": "error",
     "traceback": [
      "\u001b[0;31m---------------------------------------------------------------------------\u001b[0m",
      "\u001b[0;31mKeyboardInterrupt\u001b[0m                         Traceback (most recent call last)",
      "\u001b[0;32m<ipython-input-14-712582321026>\u001b[0m in \u001b[0;36m<module>\u001b[0;34m()\u001b[0m\n\u001b[1;32m      9\u001b[0m \u001b[0;34m\u001b[0m\u001b[0m\n\u001b[1;32m     10\u001b[0m     \u001b[0mnum_comparisons\u001b[0m \u001b[0;34m=\u001b[0m \u001b[0;36m10\u001b[0m\u001b[0;34m\u001b[0m\u001b[0m\n\u001b[0;32m---> 11\u001b[0;31m     \u001b[0mpredicted_class\u001b[0m \u001b[0;34m=\u001b[0m \u001b[0mclassify\u001b[0m\u001b[0;34m(\u001b[0m\u001b[0msequence\u001b[0m\u001b[0;34m,\u001b[0m \u001b[0mnum_comparisons\u001b[0m\u001b[0;34m)\u001b[0m\u001b[0;34m\u001b[0m\u001b[0m\n\u001b[0m\u001b[1;32m     12\u001b[0m     \u001b[0;32mprint\u001b[0m \u001b[0;34m'Predicted class is: '\u001b[0m \u001b[0;34m+\u001b[0m \u001b[0mstr\u001b[0m\u001b[0;34m(\u001b[0m\u001b[0mpredicted_class\u001b[0m\u001b[0;34m)\u001b[0m\u001b[0;34m\u001b[0m\u001b[0m\n\u001b[1;32m     13\u001b[0m     \u001b[0;32mif\u001b[0m \u001b[0mpredicted_class\u001b[0m \u001b[0;34m!=\u001b[0m \u001b[0mtrue_class\u001b[0m\u001b[0;34m:\u001b[0m \u001b[0merrors\u001b[0m \u001b[0;34m+=\u001b[0m \u001b[0;36m1\u001b[0m\u001b[0;34m\u001b[0m\u001b[0m\n",
      "\u001b[0;32m<ipython-input-13-2b3e0cab1b77>\u001b[0m in \u001b[0;36mclassify\u001b[0;34m(sequence, num_comparisons, num_neighbors, stat, alignment_algorithm)\u001b[0m\n\u001b[1;32m     11\u001b[0m     \u001b[0;32mfor\u001b[0m \u001b[0mi\u001b[0m \u001b[0;32min\u001b[0m \u001b[0mrange\u001b[0m\u001b[0;34m(\u001b[0m\u001b[0mnum_comparisons\u001b[0m\u001b[0;34m)\u001b[0m\u001b[0;34m:\u001b[0m\u001b[0;34m\u001b[0m\u001b[0m\n\u001b[1;32m     12\u001b[0m         \u001b[0menhancer\u001b[0m \u001b[0;34m=\u001b[0m \u001b[0menhancer_X\u001b[0m\u001b[0;34m[\u001b[0m\u001b[0mrandom_enhancer_indcs\u001b[0m\u001b[0;34m[\u001b[0m\u001b[0mi\u001b[0m\u001b[0;34m]\u001b[0m\u001b[0;34m,\u001b[0m\u001b[0;34m:\u001b[0m\u001b[0;34m]\u001b[0m\u001b[0;34m\u001b[0m\u001b[0m\n\u001b[0;32m---> 13\u001b[0;31m         \u001b[0mscore_enh\u001b[0m \u001b[0;34m=\u001b[0m \u001b[0meval\u001b[0m\u001b[0;34m(\u001b[0m\u001b[0malignment_algorithm\u001b[0m \u001b[0;34m+\u001b[0m \u001b[0;34m'(enhancer, sequence)'\u001b[0m\u001b[0;34m)\u001b[0m\u001b[0;34m\u001b[0m\u001b[0m\n\u001b[0m\u001b[1;32m     14\u001b[0m         \u001b[0menhancer_scores\u001b[0m\u001b[0;34m.\u001b[0m\u001b[0mappend\u001b[0m\u001b[0;34m(\u001b[0m\u001b[0mscore_enh\u001b[0m\u001b[0;34m)\u001b[0m\u001b[0;34m\u001b[0m\u001b[0m\n\u001b[1;32m     15\u001b[0m         \u001b[0mpromoter\u001b[0m \u001b[0;34m=\u001b[0m \u001b[0mpromoter_X\u001b[0m\u001b[0;34m[\u001b[0m\u001b[0mrandom_promoter_indcs\u001b[0m\u001b[0;34m[\u001b[0m\u001b[0mi\u001b[0m\u001b[0;34m]\u001b[0m\u001b[0;34m,\u001b[0m\u001b[0;34m:\u001b[0m\u001b[0;34m]\u001b[0m\u001b[0;34m\u001b[0m\u001b[0m\n",
      "\u001b[0;32m<string>\u001b[0m in \u001b[0;36m<module>\u001b[0;34m()\u001b[0m\n",
      "\u001b[0;32m/Users/aimeebarciauskas/Projects/promoter_discovery/longest_common_subsequence.py\u001b[0m in \u001b[0;36mlongest_common_subsequence_score\u001b[0;34m(seq1, seq2)\u001b[0m\n\u001b[1;32m      7\u001b[0m         \u001b[0;32mfor\u001b[0m \u001b[0mj\u001b[0m \u001b[0;32min\u001b[0m \u001b[0mrange\u001b[0m\u001b[0;34m(\u001b[0m\u001b[0;36m1\u001b[0m\u001b[0;34m,\u001b[0m\u001b[0mseq2_len\u001b[0m\u001b[0;34m)\u001b[0m\u001b[0;34m:\u001b[0m\u001b[0;34m\u001b[0m\u001b[0m\n\u001b[1;32m      8\u001b[0m             \u001b[0;32mif\u001b[0m \u001b[0mseq1\u001b[0m\u001b[0;34m[\u001b[0m\u001b[0mi\u001b[0m\u001b[0;34m]\u001b[0m \u001b[0;34m==\u001b[0m \u001b[0mseq2\u001b[0m\u001b[0;34m[\u001b[0m\u001b[0mj\u001b[0m\u001b[0;34m]\u001b[0m\u001b[0;34m:\u001b[0m\u001b[0;34m\u001b[0m\u001b[0m\n\u001b[0;32m----> 9\u001b[0;31m                 \u001b[0mscore_matrix\u001b[0m\u001b[0;34m.\u001b[0m\u001b[0mitemset\u001b[0m\u001b[0;34m(\u001b[0m\u001b[0;34m(\u001b[0m\u001b[0mi\u001b[0m\u001b[0;34m,\u001b[0m\u001b[0mj\u001b[0m\u001b[0;34m)\u001b[0m\u001b[0;34m,\u001b[0m \u001b[0mscore_matrix\u001b[0m\u001b[0;34m.\u001b[0m\u001b[0mitem\u001b[0m\u001b[0;34m(\u001b[0m\u001b[0mi\u001b[0m\u001b[0;34m-\u001b[0m\u001b[0;36m1\u001b[0m\u001b[0;34m,\u001b[0m\u001b[0mj\u001b[0m\u001b[0;34m-\u001b[0m\u001b[0;36m1\u001b[0m\u001b[0;34m)\u001b[0m \u001b[0;34m+\u001b[0m \u001b[0;36m1\u001b[0m\u001b[0;34m)\u001b[0m\u001b[0;34m\u001b[0m\u001b[0m\n\u001b[0m\u001b[1;32m     10\u001b[0m             \u001b[0;32melse\u001b[0m\u001b[0;34m:\u001b[0m\u001b[0;34m\u001b[0m\u001b[0m\n\u001b[1;32m     11\u001b[0m                 \u001b[0mval1\u001b[0m \u001b[0;34m=\u001b[0m \u001b[0mscore_matrix\u001b[0m\u001b[0;34m.\u001b[0m\u001b[0mitem\u001b[0m\u001b[0;34m(\u001b[0m\u001b[0;34m(\u001b[0m\u001b[0mi\u001b[0m\u001b[0;34m-\u001b[0m\u001b[0;36m1\u001b[0m\u001b[0;34m,\u001b[0m\u001b[0mj\u001b[0m\u001b[0;34m)\u001b[0m\u001b[0;34m)\u001b[0m\u001b[0;34m\u001b[0m\u001b[0m\n",
      "\u001b[0;31mKeyboardInterrupt\u001b[0m: "
     ]
    }
   ],
   "source": [
    "# NOTE: we have to ensure we don't train using the same sequence, but this should be ok in cv setup\n",
    "errors = 0\n",
    "num_trials = 100\n",
    "for itera in range(num_trials):\n",
    "    random_idx = np.random.choice(len(X), 1)[0]\n",
    "    sequence = X[random_idx,:]\n",
    "    true_class = y[random_idx]\n",
    "    print 'True class is ' + str(true_class)\n",
    "\n",
    "    num_comparisons = 10\n",
    "    predicted_class = classify(sequence, num_comparisons)\n",
    "    print 'Predicted class is: ' + str(predicted_class)\n",
    "    if predicted_class != true_class: errors += 1\n",
    "    print\n",
    "    \n",
    "print 'Final accuracy: ' + str(float(errors)/num_trials)"
   ]
  }
 ],
 "metadata": {
  "kernelspec": {
   "display_name": "Python 2",
   "language": "python",
   "name": "python2"
  },
  "language_info": {
   "codemirror_mode": {
    "name": "ipython",
    "version": 2
   },
   "file_extension": ".py",
   "mimetype": "text/x-python",
   "name": "python",
   "nbconvert_exporter": "python",
   "pygments_lexer": "ipython2",
   "version": "2.7.11"
  }
 },
 "nbformat": 4,
 "nbformat_minor": 0
}
