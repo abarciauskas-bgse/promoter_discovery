{
 "cells": [
  {
   "cell_type": "code",
   "execution_count": null,
   "metadata": {
    "collapsed": true
   },
   "outputs": [],
   "source": [
    "import matplotlib.mlab as mlab\n",
    "import matplotlib.pyplot as plt\n",
    "import random"
   ]
  },
  {
   "cell_type": "code",
   "execution_count": 1,
   "metadata": {
    "collapsed": false
   },
   "outputs": [
    {
     "name": "stdout",
     "output_type": "stream",
     "text": [
      "('Generated X with shape ', (347698, 1000))\n",
      "('Generated y with shape ', (347698,))\n"
     ]
    }
   ],
   "source": [
    "execfile('ML_Challenge_data_preprocessing.py')"
   ]
  },
  {
   "cell_type": "code",
   "execution_count": 68,
   "metadata": {
    "collapsed": false
   },
   "outputs": [
    {
     "name": "stdout",
     "output_type": "stream",
     "text": [
      "First 2 lables are: 0 and 0\n"
     ]
    }
   ],
   "source": [
    "first_seq_label, second_seq_label = [y[9],y[5]]\n",
    "print 'First 2 lables are: ' + str(first_seq_label) + ' and ' + str(second_seq_label)"
   ]
  },
  {
   "cell_type": "code",
   "execution_count": 69,
   "metadata": {
    "collapsed": false
   },
   "outputs": [
    {
     "name": "stdout",
     "output_type": "stream",
     "text": [
      "Start of seq1: ['G' 'C' 'T' 'G' 'G']\n",
      "Start of seq2: ['T' 'T' 'G' 'G' 'C']\n",
      "Length of longest common subsequence: 655.0\n"
     ]
    }
   ],
   "source": [
    "execfile('longest_common_subsequence.py')\n",
    "seq1, seq2 = X[9], X[5]\n",
    "print 'Start of seq1: ' + str(seq1[0:5])\n",
    "print 'Start of seq2: ' + str(seq2[0:5])\n",
    "\n",
    "mat = longest_common_subsequence_matrix(seq1, seq2)\n",
    "print 'Length of longest common subsequence: ' + str(mat[999,999])"
   ]
  },
  {
   "cell_type": "code",
   "execution_count": 79,
   "metadata": {
    "collapsed": false
   },
   "outputs": [
    {
     "name": "stdout",
     "output_type": "stream",
     "text": [
      "(274299, 1000)\n",
      "(73399, 1000)\n"
     ]
    }
   ],
   "source": [
    "num_pairs = 100\n",
    "both_label0_seq_lengths = []\n",
    "both_label1_seq_lengths = []\n",
    "diff_labels_seq_lengths = []\n",
    "\n",
    "# split into promotors and enhancers\n",
    "promoter_idcs = (y == 0).nonzero()[0]\n",
    "num_promoters = len(promoter_idcs)\n",
    "enhancer_idcs = (y == 1).nonzero()[0]\n",
    "num_enhancers = len(enhancer_idcs)\n",
    "assert(num_promoters + num_enhancers == X.shape[0])\n",
    "promoter_X = X[promoter_idcs,]\n",
    "enhancer_X = X[enhancer_idcs,]\n",
    "print promoter_X.shape\n",
    "print enhancer_X.shape"
   ]
  },
  {
   "cell_type": "code",
   "execution_count": 81,
   "metadata": {
    "collapsed": false
   },
   "outputs": [
    {
     "name": "stdout",
     "output_type": "stream",
     "text": [
      "[644.0, 638.0, 615.0, 615.0, 639.0, 636.0, 642.0, 606.0, 626.0, 607.0]\n"
     ]
    }
   ],
   "source": [
    "for i in range(num_pairs):\n",
    "    random_idx1 = int(random.random()*num_promoters)\n",
    "    random_idx2 = int(random.random()*num_promoters)\n",
    "    assert(random_idx1 != random_idx2)\n",
    "    seq1 = promoter_X[random_idx1]\n",
    "    seq2 = promoter_X[random_idx2]\n",
    "    mat = longest_common_subsequence_matrix(seq1, seq2)\n",
    "    both_label0_seq_lengths.append(mat[len(seq1)-1,len(seq2)-1])\n",
    "\n",
    "print both_label0_seq_lengths[0:10]"
   ]
  },
  {
   "cell_type": "code",
   "execution_count": 82,
   "metadata": {
    "collapsed": false
   },
   "outputs": [
    {
     "name": "stdout",
     "output_type": "stream",
     "text": [
      "[617.0, 628.0, 610.0, 616.0, 597.0, 605.0, 652.0, 618.0, 654.0, 622.0]\n"
     ]
    }
   ],
   "source": [
    "for i in range(num_pairs):\n",
    "    random_idx1 = int(random.random()*num_enhancers)\n",
    "    random_idx2 = int(random.random()*num_enhancers)  \n",
    "    assert(random_idx1 != random_idx2)    \n",
    "    seq1 = enhancer_X[random_idx1]\n",
    "    seq2 = enhancer_X[random_idx2]\n",
    "    mat = longest_common_subsequence_matrix(seq1, seq2)\n",
    "    both_label1_seq_lengths.append(mat[len(seq1)-1,len(seq2)-1])\n",
    "\n",
    "print both_label1_seq_lengths[0:10]"
   ]
  },
  {
   "cell_type": "code",
   "execution_count": 84,
   "metadata": {
    "collapsed": false
   },
   "outputs": [
    {
     "name": "stdout",
     "output_type": "stream",
     "text": [
      "[558.0, 578.0, 538.0, 609.0, 554.0, 574.0, 528.0, 659.0, 601.0, 620.0]\n"
     ]
    }
   ],
   "source": [
    "for i in range(num_pairs):\n",
    "    random_idx1 = int(random.random()*num_enhancers)\n",
    "    random_idx2 = int(random.random()*num_promoters)  \n",
    "    seq1 = enhancer_X[random_idx1]\n",
    "    seq2 = promoter_X[random_idx2]\n",
    "    mat = longest_common_subsequence_matrix(seq1, seq2)\n",
    "    diff_labels_seq_lengths.append(mat[len(seq1)-1,len(seq2)-1])\n",
    "\n",
    "print diff_labels_seq_lengths[0:10]"
   ]
  },
  {
   "cell_type": "code",
   "execution_count": 88,
   "metadata": {
    "collapsed": false
   },
   "outputs": [
    {
     "data": {
      "image/png": "[encoded data removed]",
      "text/plain": [
       "<matplotlib.figure.Figure at 0x1117d8310>"
      ]
     },
     "metadata": {},
     "output_type": "display_data"
    },
    {
     "data": {
      "image/png": "[encoded data removed]",
      "text/plain": [
       "<matplotlib.figure.Figure at 0x111995290>"
      ]
     },
     "metadata": {},
     "output_type": "display_data"
    },
    {
     "data": {
      "image/png": "[encoded data removed]",
      "text/plain": [
       "<matplotlib.figure.Figure at 0x111cdcbd0>"
      ]
     },
     "metadata": {},
     "output_type": "display_data"
    }
   ],
   "source": [
    "%matplotlib inline\n",
    "\n",
    "def plot_lcs_lengths(seq_lengths):\n",
    "    n, bins, patches = plt.hist(seq_lengths, 20, normed=1, facecolor='green', alpha=0.75)\n",
    "    mu = np.mean(seq_lengths)\n",
    "    sigma = np.std(seq_lengths)\n",
    "    plt.title(r'$\\mathrm{Histogram\\ of\\ Different\\ Label\\ LCS\\ Lengths\\ :}\\ \\mu='\n",
    "              '' + str(mu) + ',\\ \\sigma=' + str(sigma) + '$')\n",
    "    # Note: there is a value lower, ths has cut some extremes\n",
    "    plt.grid(True)\n",
    "    plt.show()\n",
    "\n",
    "plot_lcs_lengths(both_label0_seq_lengths)\n",
    "plot_lcs_lengths(both_label1_seq_lengths)\n",
    "plot_lcs_lengths(diff_labels_seq_lengths)"
   ]
  },
  {
   "cell_type": "markdown",
   "metadata": {},
   "source": [
    "Perhaps if we track down the most common subsequence, this could be used as a classifier."
   ]
  }
 ],
 "metadata": {
  "kernelspec": {
   "display_name": "Python 2",
   "language": "python",
   "name": "python2"
  },
  "language_info": {
   "codemirror_mode": {
    "name": "ipython",
    "version": 2
   },
   "file_extension": ".py",
   "mimetype": "text/x-python",
   "name": "python",
   "nbconvert_exporter": "python",
   "pygments_lexer": "ipython2",
   "version": "2.7.11"
  }
 },
 "nbformat": 4,
 "nbformat_minor": 0
}
