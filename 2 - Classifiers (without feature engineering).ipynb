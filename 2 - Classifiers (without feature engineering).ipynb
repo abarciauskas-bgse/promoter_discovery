{
 "cells": [
  {
   "cell_type": "code",
   "execution_count": 1,
   "metadata": {
    "collapsed": true
   },
   "outputs": [],
   "source": [
    "from sklearn import cross_validation\n",
    "from scikits.statsmodels.tools import categorical\n",
    "from sklearn import linear_model\n",
    "import time"
   ]
  },
  {
   "cell_type": "code",
   "execution_count": 73,
   "metadata": {
    "collapsed": false
   },
   "outputs": [
    {
     "name": "stdout",
     "output_type": "stream",
     "text": [
      "('Generated X with shape ', (347698, 1000))\n",
      "('Generated y with shape ', (347698,))\n"
     ]
    }
   ],
   "source": [
    "execfile('ML_Challenge_data_preprocessing.py')"
   ]
  },
  {
   "cell_type": "markdown",
   "metadata": {},
   "source": [
    "Remove observations with unknown nucleobases."
   ]
  },
  {
   "cell_type": "code",
   "execution_count": 74,
   "metadata": {
    "collapsed": false
   },
   "outputs": [
    {
     "name": "stdout",
     "output_type": "stream",
     "text": [
      "(347683, 1000)\n",
      "(347683,)\n"
     ]
    }
   ],
   "source": [
    "X2 = []\n",
    "y2 = []\n",
    "for i, x in enumerate(X):\n",
    "    if 'N' not in X[i,:]:\n",
    "        X2.append(x)\n",
    "        y2.append(y[i])\n",
    "        \n",
    "X2 = np.array(X2)\n",
    "y2 = np.array(y2)\n",
    "print X2.shape\n",
    "print y2.shape"
   ]
  },
  {
   "cell_type": "markdown",
   "metadata": {},
   "source": [
    "**Categorical independent variables are converted to binary variables.** The result is a feature vector of length 4000, where each variable represents the presence of the base nucleobases 'A', 'T', 'C', 'G'. The 4000 length array can be interpreted as the sequence item is the index / 5 and the modulo of the index with 5 represents the base pair as the index into the array of the base pairs."
   ]
  },
  {
   "cell_type": "code",
   "execution_count": 75,
   "metadata": {
    "collapsed": false
   },
   "outputs": [
    {
     "name": "stdout",
     "output_type": "stream",
     "text": [
      "(10000, 4000)\n",
      "(10000,)\n"
     ]
    }
   ],
   "source": [
    "num_pair_types = 4 # ATCG\n",
    "sample_size = 10000\n",
    "random_sample_idcs = np.random.choice(X2.shape[0], sample_size)\n",
    "X_sample = np.zeros((sample_size, X2.shape[1]*num_pair_types))\n",
    "y_sample = np.zeros((sample_size))\n",
    "\n",
    "for i in range(sample_size):\n",
    "    rand_idx = random_sample_idcs[i]\n",
    "    one_hot = categorical(X2[rand_idx,:], drop = True)\n",
    "    one_hot = one_hot.flatten()\n",
    "    X_sample[i,:] = one_hot\n",
    "    y_sample[i] = y2[rand_idx]\n",
    "\n",
    "print X_sample.shape\n",
    "print y_sample.shape"
   ]
  },
  {
   "cell_type": "code",
   "execution_count": 76,
   "metadata": {
    "collapsed": false
   },
   "outputs": [
    {
     "name": "stdout",
     "output_type": "stream",
     "text": [
      "(9000, 4000)\n",
      "(9000,)\n"
     ]
    }
   ],
   "source": [
    "test_size = 0.1\n",
    "X_train, X_test, y_train, y_test = cross_validation.train_test_split(\n",
    "    X_sample, y_sample, test_size=test_size, random_state=0)\n",
    "print X_train.shape\n",
    "print y_train.shape"
   ]
  },
  {
   "cell_type": "markdown",
   "metadata": {},
   "source": [
    "# LOGISTIC REGRESSION"
   ]
  },
  {
   "cell_type": "code",
   "execution_count": 77,
   "metadata": {
    "collapsed": false
   },
   "outputs": [
    {
     "name": "stdout",
     "output_type": "stream",
     "text": [
      "time spent to train 0.9: 13.840786 seconds.\n"
     ]
    }
   ],
   "source": [
    "import time\n",
    "\n",
    "start_time = time.clock()\n",
    "logreg = linear_model.LogisticRegression(C=1e5)\n",
    "logreg.fit(X_train, y_train)\n",
    "end_time = time.clock()\n",
    "\n",
    "print 'time spent to train ' + str(1 - test_size) + ': ' + str(end_time - start_time) + ' seconds.'"
   ]
  },
  {
   "cell_type": "code",
   "execution_count": 78,
   "metadata": {
    "collapsed": false
   },
   "outputs": [
    {
     "data": {
      "text/plain": [
       "0.77700000000000002"
      ]
     },
     "execution_count": 78,
     "metadata": {},
     "output_type": "execute_result"
    }
   ],
   "source": [
    "logreg.score(X_test, y_test)"
   ]
  },
  {
   "cell_type": "markdown",
   "metadata": {},
   "source": [
    "# SUPPORT VECTOR MACHINE - RBF"
   ]
  },
  {
   "cell_type": "code",
   "execution_count": 79,
   "metadata": {
    "collapsed": false
   },
   "outputs": [
    {
     "name": "stdout",
     "output_type": "stream",
     "text": [
      "SVC(C=1.0, cache_size=200, class_weight=None, coef0=0.0, degree=3, gamma=0.0,\n",
      "  kernel='rbf', max_iter=-1, probability=False, random_state=None,\n",
      "  shrinking=True, tol=0.001, verbose=False)\n",
      "time spent to train 0.9: 168.742586 seconds.\n"
     ]
    }
   ],
   "source": [
    "from sklearn.svm import SVC\n",
    "\n",
    "start_time = time.clock()\n",
    "clf = SVC(kernel = 'rbf')\n",
    "print clf.fit(X_train, y_train)\n",
    "end_time = time.clock()\n",
    "\n",
    "print 'time spent to train ' + str(1 - test_size) + ': ' + str(end_time - start_time) + ' seconds.'"
   ]
  },
  {
   "cell_type": "code",
   "execution_count": 80,
   "metadata": {
    "collapsed": false
   },
   "outputs": [
    {
     "data": {
      "text/plain": [
       "0.82499999999999996"
      ]
     },
     "execution_count": 80,
     "metadata": {},
     "output_type": "execute_result"
    }
   ],
   "source": [
    "clf.score(X_test, y_test)"
   ]
  },
  {
   "cell_type": "markdown",
   "metadata": {},
   "source": [
    "# SUPPORT VECTOR MACHINE - LINEAR"
   ]
  },
  {
   "cell_type": "code",
   "execution_count": 81,
   "metadata": {
    "collapsed": false
   },
   "outputs": [
    {
     "name": "stdout",
     "output_type": "stream",
     "text": [
      "SVC(C=1.0, cache_size=200, class_weight=None, coef0=0.0, degree=3, gamma=0.0,\n",
      "  kernel='linear', max_iter=-1, probability=False, random_state=None,\n",
      "  shrinking=True, tol=0.001, verbose=False)\n",
      "time spent to train 0.9: 170.224178 seconds.\n"
     ]
    }
   ],
   "source": [
    "from sklearn.svm import SVC\n",
    "\n",
    "start_time = time.clock()\n",
    "clf = SVC(kernel = 'linear')\n",
    "print clf.fit(X_train, y_train)\n",
    "end_time = time.clock()\n",
    "\n",
    "print 'time spent to train ' + str(1 - test_size) + ': ' + str(end_time - start_time) + ' seconds.'"
   ]
  },
  {
   "cell_type": "code",
   "execution_count": 82,
   "metadata": {
    "collapsed": false
   },
   "outputs": [
    {
     "data": {
      "text/plain": [
       "0.78000000000000003"
      ]
     },
     "execution_count": 82,
     "metadata": {},
     "output_type": "execute_result"
    }
   ],
   "source": [
    "clf.score(X_test, y_test)"
   ]
  },
  {
   "cell_type": "markdown",
   "metadata": {
    "collapsed": true
   },
   "source": [
    "# K-NEAREST NEIGHBORS"
   ]
  },
  {
   "cell_type": "code",
   "execution_count": 85,
   "metadata": {
    "collapsed": false
   },
   "outputs": [
    {
     "name": "stdout",
     "output_type": "stream",
     "text": [
      "Accuracy for 3 neighbors: 0.822\n",
      "Time spent calculating neighbors: 62.200299\n",
      "\n",
      "Accuracy for 6 neighbors: 0.843\n",
      "Time spent calculating neighbors: 60.113138\n",
      "\n",
      "Accuracy for 9 neighbors: 0.84\n",
      "Time spent calculating neighbors: 60.016146\n",
      "\n",
      "Accuracy for 12 neighbors: 0.829\n",
      "Time spent calculating neighbors: 60.20239\n",
      "\n",
      "Accuracy for 15 neighbors: 0.833\n",
      "Time spent calculating neighbors: 60.547729\n",
      "\n",
      "Accuracy for 18 neighbors: 0.827\n",
      "Time spent calculating neighbors: 60.268797\n",
      "\n",
      "Accuracy for 21 neighbors: 0.837\n",
      "Time spent calculating neighbors: 60.953661\n",
      "\n",
      "Accuracy for 24 neighbors: 0.832\n",
      "Time spent calculating neighbors: 63.05509\n",
      "\n",
      "Accuracy for 27 neighbors: 0.839\n",
      "Time spent calculating neighbors: 61.980521\n",
      "\n",
      "Accuracy for 30 neighbors: 0.832\n",
      "Time spent calculating neighbors: 62.111088\n",
      "\n",
      "Accuracy for 33 neighbors: 0.832\n",
      "Time spent calculating neighbors: 61.995101\n",
      "\n",
      "Accuracy for 36 neighbors: 0.834\n",
      "Time spent calculating neighbors: 61.833016\n",
      "\n",
      "Accuracy for 39 neighbors: 0.832\n",
      "Time spent calculating neighbors: 61.523665\n",
      "\n"
     ]
    }
   ],
   "source": [
    "from sklearn import neighbors\n",
    "\n",
    "max_neighbors=42\n",
    "inc_by = 3\n",
    "num_neighbors = range(3,max_neighbors,inc_by)\n",
    "\n",
    "accuracies = []\n",
    "for k in num_neighbors:\n",
    "    clf = neighbors.KNeighborsClassifier(k)\n",
    "    clf.fit(X_train, y_train)\n",
    "    start_fit = time.clock()\n",
    "    score = clf.score(X_test, y_test)\n",
    "    finish_fit = time.clock()\n",
    "    accuracies.append(score)    \n",
    "    print 'Accuracy for ' + str(k) + ' neighbors: ' + str(score)\n",
    "    print 'Time spent calculating neighbors: ' + str(finish_fit - start_fit)\n",
    "    print ''"
   ]
  },
  {
   "cell_type": "markdown",
   "metadata": {},
   "source": [
    "# GRADIENT BOOSTING CLASSIFIER"
   ]
  },
  {
   "cell_type": "code",
   "execution_count": 86,
   "metadata": {
    "collapsed": false
   },
   "outputs": [
    {
     "name": "stdout",
     "output_type": "stream",
     "text": [
      "GradientBoostingClassifier(init=None, learning_rate=1.0, loss='deviance',\n",
      "              max_depth=2, max_features=None, max_leaf_nodes=None,\n",
      "              min_samples_leaf=1, min_samples_split=2,\n",
      "              min_weight_fraction_leaf=0.0, n_estimators=100,\n",
      "              random_state=0, subsample=1.0, verbose=0, warm_start=False)\n",
      "time spent to train 0.9: 239.749799 seconds.\n"
     ]
    }
   ],
   "source": [
    "from sklearn.ensemble import GradientBoostingClassifier \n",
    "\n",
    "start_time = time.clock()\n",
    "clf = GradientBoostingClassifier(n_estimators=100, learning_rate=1.0, max_depth=2)\n",
    "print clf.fit(X_train, y_train)\n",
    "end_time = time.clock()\n",
    "\n",
    "print 'time spent to train ' + str(1 - test_size) + ': ' + str(end_time - start_time) + ' seconds.'"
   ]
  },
  {
   "cell_type": "code",
   "execution_count": 87,
   "metadata": {
    "collapsed": false
   },
   "outputs": [
    {
     "data": {
      "text/plain": [
       "0.78700000000000003"
      ]
     },
     "execution_count": 87,
     "metadata": {},
     "output_type": "execute_result"
    }
   ],
   "source": [
    "clf.score(X_test, y_test)"
   ]
  },
  {
   "cell_type": "markdown",
   "metadata": {},
   "source": [
    "# DECISION TREE CLASSIFIER"
   ]
  },
  {
   "cell_type": "code",
   "execution_count": 88,
   "metadata": {
    "collapsed": false
   },
   "outputs": [
    {
     "name": "stdout",
     "output_type": "stream",
     "text": [
      "DecisionTreeClassifier(class_weight=None, criterion='gini', max_depth=5,\n",
      "            max_features=None, max_leaf_nodes=None, min_samples_leaf=1,\n",
      "            min_samples_split=2, min_weight_fraction_leaf=0.0,\n",
      "            random_state=None, splitter='best')\n",
      "time spent to train 0.9: 4.589201 seconds.\n"
     ]
    }
   ],
   "source": [
    "from sklearn.tree import DecisionTreeClassifier\n",
    "\n",
    "start_time = time.clock()\n",
    "clf = DecisionTreeClassifier(max_depth=5)\n",
    "print clf.fit(X_train, y_train)\n",
    "end_time = time.clock()\n",
    "\n",
    "print 'time spent to train ' + str(1 - test_size) + ': ' + str(end_time - start_time) + ' seconds.'"
   ]
  },
  {
   "cell_type": "code",
   "execution_count": 89,
   "metadata": {
    "collapsed": false
   },
   "outputs": [
    {
     "data": {
      "text/plain": [
       "0.78300000000000003"
      ]
     },
     "execution_count": 89,
     "metadata": {},
     "output_type": "execute_result"
    }
   ],
   "source": [
    "clf.score(X_test, y_test)"
   ]
  },
  {
   "cell_type": "markdown",
   "metadata": {},
   "source": [
    "# ADABOOST"
   ]
  },
  {
   "cell_type": "code",
   "execution_count": 90,
   "metadata": {
    "collapsed": false
   },
   "outputs": [
    {
     "name": "stdout",
     "output_type": "stream",
     "text": [
      "AdaBoostClassifier(algorithm='SAMME.R', base_estimator=None,\n",
      "          learning_rate=1.0, n_estimators=50, random_state=None)\n",
      "time spent to train 0.9: 45.955662 seconds.\n"
     ]
    }
   ],
   "source": [
    "from sklearn.ensemble import AdaBoostClassifier \n",
    "\n",
    "start_time = time.clock()\n",
    "clf = AdaBoostClassifier()\n",
    "print clf.fit(X_train, y_train)\n",
    "end_time = time.clock()\n",
    "\n",
    "print 'time spent to train ' + str(1 - test_size) + ': ' + str(end_time - start_time) + ' seconds.'"
   ]
  },
  {
   "cell_type": "code",
   "execution_count": 91,
   "metadata": {
    "collapsed": false
   },
   "outputs": [
    {
     "data": {
      "text/plain": [
       "0.79600000000000004"
      ]
     },
     "execution_count": 91,
     "metadata": {},
     "output_type": "execute_result"
    }
   ],
   "source": [
    "clf.score(X_test, y_test)"
   ]
  },
  {
   "cell_type": "markdown",
   "metadata": {},
   "source": [
    "# RANDOM FOREST"
   ]
  },
  {
   "cell_type": "code",
   "execution_count": 92,
   "metadata": {
    "collapsed": false
   },
   "outputs": [
    {
     "name": "stdout",
     "output_type": "stream",
     "text": [
      "RandomForestClassifier(bootstrap=True, class_weight=None, criterion='gini',\n",
      "            max_depth=None, max_features='auto', max_leaf_nodes=None,\n",
      "            min_samples_leaf=1, min_samples_split=2,\n",
      "            min_weight_fraction_leaf=0.0, n_estimators=10, n_jobs=1,\n",
      "            oob_score=False, random_state=None, verbose=0,\n",
      "            warm_start=False)\n",
      "time spent to train 0.9: 1.019835 seconds.\n"
     ]
    }
   ],
   "source": [
    "from sklearn.ensemble import RandomForestClassifier \n",
    "\n",
    "start_time = time.clock()\n",
    "clf = RandomForestClassifier(n_estimators=10)\n",
    "print clf.fit(X_train, y_train)\n",
    "end_time = time.clock()\n",
    "\n",
    "print 'time spent to train ' + str(1 - test_size) + ': ' + str(end_time - start_time) + ' seconds.'"
   ]
  },
  {
   "cell_type": "code",
   "execution_count": 93,
   "metadata": {
    "collapsed": false
   },
   "outputs": [
    {
     "data": {
      "text/plain": [
       "0.80000000000000004"
      ]
     },
     "execution_count": 93,
     "metadata": {},
     "output_type": "execute_result"
    }
   ],
   "source": [
    "clf.score(X_test, y_test)"
   ]
  },
  {
   "cell_type": "markdown",
   "metadata": {},
   "source": [
    "# NAIVE BAYES"
   ]
  },
  {
   "cell_type": "code",
   "execution_count": 94,
   "metadata": {
    "collapsed": false
   },
   "outputs": [
    {
     "name": "stdout",
     "output_type": "stream",
     "text": [
      "GaussianNB()\n",
      "time spent to train 0.9: 0.588723 seconds.\n"
     ]
    }
   ],
   "source": [
    "from sklearn.naive_bayes import GaussianNB\n",
    "\n",
    "start_time = time.clock()\n",
    "clf = GaussianNB()\n",
    "print clf.fit(X_train, y_train)\n",
    "end_time = time.clock()\n",
    "\n",
    "print 'time spent to train ' + str(1 - test_size) + ': ' + str(end_time - start_time) + ' seconds.'"
   ]
  },
  {
   "cell_type": "code",
   "execution_count": 95,
   "metadata": {
    "collapsed": false
   },
   "outputs": [
    {
     "data": {
      "text/plain": [
       "0.81200000000000006"
      ]
     },
     "execution_count": 95,
     "metadata": {},
     "output_type": "execute_result"
    }
   ],
   "source": [
    "clf.score(X_test, y_test)"
   ]
  }
 ],
 "metadata": {
  "kernelspec": {
   "display_name": "Python 2",
   "language": "python",
   "name": "python2"
  },
  "language_info": {
   "codemirror_mode": {
    "name": "ipython",
    "version": 2
   },
   "file_extension": ".py",
   "mimetype": "text/x-python",
   "name": "python",
   "nbconvert_exporter": "python",
   "pygments_lexer": "ipython2",
   "version": "2.7.11"
  }
 },
 "nbformat": 4,
 "nbformat_minor": 0
}
