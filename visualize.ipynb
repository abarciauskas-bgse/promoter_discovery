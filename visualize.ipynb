{
 "cells": [
  {
   "cell_type": "markdown",
   "metadata": {},
   "source": [
    "# Visualize sequence distributions"
   ]
  },
  {
   "cell_type": "code",
   "execution_count": 13,
   "metadata": {
    "collapsed": false
   },
   "outputs": [
    {
     "name": "stdout",
     "output_type": "stream",
     "text": [
      "('Generated X with shape ', (347698, 1000))\n",
      "('Generated y with shape ', (347698,))\n"
     ]
    }
   ],
   "source": [
    "execfile('ML_Challenge_data_preprocessing.py')"
   ]
  },
  {
   "cell_type": "code",
   "execution_count": 14,
   "metadata": {
    "collapsed": false
   },
   "outputs": [
    {
     "name": "stdout",
     "output_type": "stream",
     "text": [
      "(881, 1000)\n",
      "(119, 1000)\n"
     ]
    }
   ],
   "source": [
    "# sample for faster iteration\n",
    "sample_size = 1000\n",
    "y_sample = y[0:sample_size]\n",
    "promoter_idcs = (y_sample == 0).nonzero()[0]\n",
    "num_promoters = len(promoter_idcs)\n",
    "enhancer_idcs = (y_sample == 1).nonzero()[0]\n",
    "num_enhancers = len(enhancer_idcs)\n",
    "\n",
    "promoter_X = X[promoter_idcs,]\n",
    "enhancer_X = X[enhancer_idcs,]\n",
    "print promoter_X.shape\n",
    "print enhancer_X.shape"
   ]
  },
  {
   "cell_type": "code",
   "execution_count": 15,
   "metadata": {
    "collapsed": false
   },
   "outputs": [
    {
     "data": {
      "text/plain": [
       "array([[ 0.27241771,  0.21566402,  0.25766175,  0.25425653,  0.        ],\n",
       "       [ 0.2338252 ,  0.22814983,  0.28376844,  0.25425653,  0.        ],\n",
       "       [ 0.20998865,  0.2553916 ,  0.25085131,  0.28376844,  0.        ],\n",
       "       [ 0.23269012,  0.25312145,  0.27355278,  0.24063564,  0.        ],\n",
       "       [ 0.24744608,  0.23723042,  0.2599319 ,  0.2553916 ,  0.        ],\n",
       "       [ 0.22360953,  0.23155505,  0.276958  ,  0.26787741,  0.        ],\n",
       "       [ 0.2292849 ,  0.19750284,  0.29511918,  0.27809308,  0.        ],\n",
       "       [ 0.21679909,  0.23041998,  0.28717367,  0.26560726,  0.        ],\n",
       "       [ 0.24290579,  0.2292849 ,  0.2553916 ,  0.27241771,  0.        ],\n",
       "       [ 0.25652667,  0.22587968,  0.27468785,  0.24290579,  0.        ]])"
      ]
     },
     "execution_count": 15,
     "metadata": {},
     "output_type": "execute_result"
    }
   ],
   "source": [
    "promoter_distribution = np.zeros((1000,5))\n",
    "pairs = {'A':0, 'T': 1, 'C': 2, 'G': 3, 'N': 4}\n",
    "for promoter_obv_idx in range(promoter_X.shape[0]):\n",
    "    promoter_obv = promoter_X[promoter_obv_idx]\n",
    "    for p_idx in range(len(promoter_obv)):\n",
    "        p = promoter_obv[p_idx]\n",
    "        current_count = promoter_distribution.item((p_idx, pairs[p]))\n",
    "        promoter_distribution.itemset((p_idx, pairs[p]), current_count+1)\n",
    "\n",
    "(promoter_distribution/881)[0:10,]"
   ]
  }
 ],
 "metadata": {
  "kernelspec": {
   "display_name": "Python 2",
   "language": "python",
   "name": "python2"
  },
  "language_info": {
   "codemirror_mode": {
    "name": "ipython",
    "version": 2
   },
   "file_extension": ".py",
   "mimetype": "text/x-python",
   "name": "python",
   "nbconvert_exporter": "python",
   "pygments_lexer": "ipython2",
   "version": "2.7.11"
  }
 },
 "nbformat": 4,
 "nbformat_minor": 0
}
