{
 "cells": [
  {
   "cell_type": "markdown",
   "metadata": {},
   "source": [
    "# Visualize sequence distributions"
   ]
  },
  {
   "cell_type": "code",
   "execution_count": 1,
   "metadata": {
    "collapsed": false
   },
   "outputs": [
    {
     "name": "stdout",
     "output_type": "stream",
     "text": [
      "('Generated X with shape ', (347698, 1000))\n",
      "('Generated y with shape ', (347698,))\n"
     ]
    }
   ],
   "source": [
    "execfile('ML_Challenge_data_preprocessing.py')"
   ]
  },
  {
   "cell_type": "code",
   "execution_count": 2,
   "metadata": {
    "collapsed": false
   },
   "outputs": [
    {
     "name": "stdout",
     "output_type": "stream",
     "text": [
      "(347683, 1000)\n",
      "(347683,)\n"
     ]
    }
   ],
   "source": [
    "X2 = []\n",
    "y2 = []\n",
    "for i, x in enumerate(X):\n",
    "    if 'N' not in X[i,:]:\n",
    "        X2.append(x)\n",
    "        y2.append(y[i])\n",
    "        \n",
    "X2 = np.array(X2)\n",
    "y2 = np.array(y2)\n",
    "print X2.shape\n",
    "print y2.shape"
   ]
  },
  {
   "cell_type": "code",
   "execution_count": 3,
   "metadata": {
    "collapsed": false
   },
   "outputs": [
    {
     "name": "stdout",
     "output_type": "stream",
     "text": [
      "(881, 1000)\n",
      "(119, 1000)\n"
     ]
    }
   ],
   "source": [
    "# sample for faster iteration\n",
    "sample_size = 1000\n",
    "y_sample = y2[0:sample_size]\n",
    "promoter_idcs = (y_sample == 0).nonzero()[0]\n",
    "num_promoters = len(promoter_idcs)\n",
    "enhancer_idcs = (y_sample == 1).nonzero()[0]\n",
    "num_enhancers = len(enhancer_idcs)\n",
    "\n",
    "promoter_X = X2[promoter_idcs,]\n",
    "enhancer_X = X2[enhancer_idcs,]\n",
    "print promoter_X.shape\n",
    "print enhancer_X.shape"
   ]
  },
  {
   "cell_type": "code",
   "execution_count": 7,
   "metadata": {
    "collapsed": false
   },
   "outputs": [
    {
     "name": "stdout",
     "output_type": "stream",
     "text": [
      "[[ 0.27241771  0.21566402  0.25766175  0.25425653]\n",
      " [ 0.2338252   0.22814983  0.28376844  0.25425653]\n",
      " [ 0.20998865  0.2553916   0.25085131  0.28376844]\n",
      " [ 0.23269012  0.25312145  0.27355278  0.24063564]\n",
      " [ 0.24744608  0.23723042  0.2599319   0.2553916 ]\n",
      " [ 0.22360953  0.23155505  0.276958    0.26787741]\n",
      " [ 0.2292849   0.19750284  0.29511918  0.27809308]\n",
      " [ 0.21679909  0.23041998  0.28717367  0.26560726]\n",
      " [ 0.24290579  0.2292849   0.2553916   0.27241771]\n",
      " [ 0.25652667  0.22587968  0.27468785  0.24290579]]\n",
      "\n",
      "[[ 0.31932773  0.27731092  0.21008403  0.19327731]\n",
      " [ 0.2605042   0.2605042   0.26890756  0.21008403]\n",
      " [ 0.26890756  0.29411765  0.28571429  0.1512605 ]\n",
      " [ 0.32773109  0.29411765  0.21008403  0.16806723]\n",
      " [ 0.28571429  0.24369748  0.30252101  0.16806723]\n",
      " [ 0.29411765  0.25210084  0.2605042   0.19327731]\n",
      " [ 0.27731092  0.27731092  0.23529412  0.21008403]\n",
      " [ 0.30252101  0.27731092  0.21848739  0.20168067]\n",
      " [ 0.27731092  0.30252101  0.15966387  0.2605042 ]\n",
      " [ 0.28571429  0.33613445  0.21848739  0.15966387]]\n"
     ]
    }
   ],
   "source": [
    "promoter_distribution = np.zeros((1000,4))\n",
    "enhancer_distribution = np.zeros((1000,4))\n",
    "pairs = {'A':0, 'T': 1, 'C': 2, 'G': 3}\n",
    "for promoter_obv_idx in range(promoter_X.shape[0]):\n",
    "    promoter_obv = promoter_X[promoter_obv_idx]\n",
    "    for p_idx in range(len(promoter_obv)):\n",
    "        p = promoter_obv[p_idx]\n",
    "        current_count = promoter_distribution.item((p_idx, pairs[p]))\n",
    "        promoter_distribution.itemset((p_idx, pairs[p]), current_count+1)\n",
    "\n",
    "for enhancer_obv_idx in range(enhancer_X.shape[0]):\n",
    "    enhancer_obv = enhancer_X[enhancer_obv_idx]\n",
    "    for p_idx in range(len(enhancer_obv)):\n",
    "        p = enhancer_obv[p_idx]\n",
    "        current_count = enhancer_distribution.item((p_idx, pairs[p]))\n",
    "        enhancer_distribution.itemset((p_idx, pairs[p]), current_count+1)\n",
    "        \n",
    "print (promoter_distribution/promoter_X.shape[0])[0:10,]\n",
    "print ''\n",
    "print (enhancer_distribution/enhancer_X.shape[0])[0:10,]"
   ]
  }
 ],
 "metadata": {
  "kernelspec": {
   "display_name": "Python 2",
   "language": "python",
   "name": "python2"
  },
  "language_info": {
   "codemirror_mode": {
    "name": "ipython",
    "version": 2
   },
   "file_extension": ".py",
   "mimetype": "text/x-python",
   "name": "python",
   "nbconvert_exporter": "python",
   "pygments_lexer": "ipython2",
   "version": "2.7.11"
  }
 },
 "nbformat": 4,
 "nbformat_minor": 0
}
