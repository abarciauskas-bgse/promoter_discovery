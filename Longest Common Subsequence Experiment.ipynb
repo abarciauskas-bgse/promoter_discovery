{
 "cells": [
  {
   "cell_type": "code",
   "execution_count": 1,
   "metadata": {
    "collapsed": true
   },
   "outputs": [],
   "source": [
    "import matplotlib.mlab as mlab\n",
    "import matplotlib.pyplot as plt\n",
    "import random"
   ]
  },
  {
   "cell_type": "code",
   "execution_count": 2,
   "metadata": {
    "collapsed": false
   },
   "outputs": [
    {
     "name": "stdout",
     "output_type": "stream",
     "text": [
      "('Generated X with shape ', (347698, 1000))\n",
      "('Generated y with shape ', (347698,))\n"
     ]
    }
   ],
   "source": [
    "execfile('ML_Challenge_data_preprocessing.py')"
   ]
  },
  {
   "cell_type": "code",
   "execution_count": 10,
   "metadata": {
    "collapsed": false
   },
   "outputs": [
    {
     "name": "stdout",
     "output_type": "stream",
     "text": [
      "(274299, 1000)\n",
      "(73399, 1000)\n"
     ]
    }
   ],
   "source": [
    "# split into promotors and enhancers\n",
    "promoter_idcs = (y == 0).nonzero()[0]\n",
    "num_promoters = len(promoter_idcs)\n",
    "enhancer_idcs = (y == 1).nonzero()[0]\n",
    "num_enhancers = len(enhancer_idcs)\n",
    "assert(num_promoters + num_enhancers == X.shape[0])\n",
    "promoter_X = X[promoter_idcs,]\n",
    "enhancer_X = X[enhancer_idcs,]\n",
    "print promoter_X.shape\n",
    "print enhancer_X.shape"
   ]
  },
  {
   "cell_type": "code",
   "execution_count": 11,
   "metadata": {
    "collapsed": true
   },
   "outputs": [],
   "source": [
    "def compute_scores(num_pairs, X1, X2):\n",
    "    scores = []\n",
    "    for i in range(num_pairs):\n",
    "        if i % 5 == 0: print 'Evaluating pair ' + str(i)\n",
    "        random_idx1 = int(random.random()*X1.shape[0])\n",
    "        random_idx2 = int(random.random()*X2.shape[0])\n",
    "        # although this doesn't matter if X1 != X2\n",
    "        assert(random_idx1 != random_idx2)\n",
    "        seq1 = X1[random_idx1]\n",
    "        seq2 = X2[random_idx2]\n",
    "        score = longest_common_subsequence_score(seq1, seq2)\n",
    "        scores.append(score)\n",
    "    return scores"
   ]
  },
  {
   "cell_type": "code",
   "execution_count": 12,
   "metadata": {
    "collapsed": false
   },
   "outputs": [
    {
     "name": "stdout",
     "output_type": "stream",
     "text": [
      "Evaluating pair 0\n",
      "Evaluating pair 5\n",
      "Evaluating pair 10\n",
      "Evaluating pair 15\n",
      "Evaluating pair 20\n",
      "Evaluating pair 25\n",
      "Evaluating pair 30\n",
      "Evaluating pair 35\n",
      "Evaluating pair 40\n",
      "Evaluating pair 45\n",
      "Evaluating pair 50\n",
      "Evaluating pair 55\n",
      "Evaluating pair 60\n",
      "Evaluating pair 65\n",
      "Evaluating pair 70\n",
      "Evaluating pair 75\n",
      "Evaluating pair 80\n",
      "Evaluating pair 85\n",
      "Evaluating pair 90\n",
      "Evaluating pair 95\n",
      "[612.0, 559.0, 575.0, 664.0, 628.0, 642.0, 653.0, 632.0, 639.0, 638.0]\n"
     ]
    }
   ],
   "source": [
    "num_pairs = 100\n",
    "both_label0_seq_scores = compute_scores(num_pairs, promoter_X, promoter_X)\n",
    "print both_label0_seq_scores[0:10]"
   ]
  },
  {
   "cell_type": "code",
   "execution_count": 13,
   "metadata": {
    "collapsed": false
   },
   "outputs": [
    {
     "name": "stdout",
     "output_type": "stream",
     "text": [
      "Evaluating pair 0\n",
      "Evaluating pair 5\n",
      "Evaluating pair 10\n",
      "Evaluating pair 15\n",
      "Evaluating pair 20\n",
      "Evaluating pair 25\n",
      "Evaluating pair 30\n",
      "Evaluating pair 35\n",
      "Evaluating pair 40\n",
      "Evaluating pair 45\n",
      "Evaluating pair 50\n",
      "Evaluating pair 55\n",
      "Evaluating pair 60\n",
      "Evaluating pair 65\n",
      "Evaluating pair 70\n",
      "Evaluating pair 75\n",
      "Evaluating pair 80\n",
      "Evaluating pair 85\n",
      "Evaluating pair 90\n",
      "Evaluating pair 95\n",
      "[629.0, 634.0, 604.0, 565.0, 582.0, 619.0, 604.0, 498.0, 629.0, 627.0]\n"
     ]
    }
   ],
   "source": [
    "both_label1_seq_scores = compute_scores(num_pairs, enhancer_X, enhancer_X)\n",
    "print both_label1_seq_scores[0:10]"
   ]
  },
  {
   "cell_type": "code",
   "execution_count": 14,
   "metadata": {
    "collapsed": false
   },
   "outputs": [
    {
     "name": "stdout",
     "output_type": "stream",
     "text": [
      "Evaluating pair 0\n",
      "Evaluating pair 5\n",
      "Evaluating pair 10\n",
      "Evaluating pair 15\n",
      "Evaluating pair 20\n",
      "Evaluating pair 25\n",
      "Evaluating pair 30\n",
      "Evaluating pair 35\n",
      "Evaluating pair 40\n",
      "Evaluating pair 45\n",
      "Evaluating pair 50\n",
      "Evaluating pair 55\n",
      "Evaluating pair 60\n",
      "Evaluating pair 65\n",
      "Evaluating pair 70\n",
      "Evaluating pair 75\n",
      "Evaluating pair 80\n",
      "Evaluating pair 85\n",
      "Evaluating pair 90\n",
      "Evaluating pair 95\n",
      "[599.0, 621.0, 605.0, 620.0, 612.0, 590.0, 621.0, 628.0, 610.0, 553.0]\n"
     ]
    }
   ],
   "source": [
    "diff_label_seq_scores = compute_scores(num_pairs, enhancer_X, promoter_X)\n",
    "print diff_label_seq_scores[0:10]"
   ]
  },
  {
   "cell_type": "code",
   "execution_count": 15,
   "metadata": {
    "collapsed": false
   },
   "outputs": [
    {
     "data": {
      "image/png": "[encoded data removed]",
      "text/plain": [
       "<matplotlib.figure.Figure at 0x106cd68d0>"
      ]
     },
     "metadata": {},
     "output_type": "display_data"
    },
    {
     "data": {
      "image/png": "[encoded data removed]",
      "text/plain": [
       "<matplotlib.figure.Figure at 0x106cd6910>"
      ]
     },
     "metadata": {},
     "output_type": "display_data"
    },
    {
     "data": {
      "image/png": "[encoded data removed]",
      "text/plain": [
       "<matplotlib.figure.Figure at 0x11942cf50>"
      ]
     },
     "metadata": {},
     "output_type": "display_data"
    }
   ],
   "source": [
    "%matplotlib inline\n",
    "\n",
    "def plot_lcs_lengths(seq_lengths):\n",
    "    n, bins, patches = plt.hist(seq_lengths, 20, normed=1, facecolor='green', alpha=0.75)\n",
    "    mu = np.mean(seq_lengths)\n",
    "    sigma = np.std(seq_lengths)\n",
    "    plt.title(r'$\\mathrm{Histogram\\ of\\ Different\\ Label\\ LCS\\ Lengths\\ :}\\ \\mu='\n",
    "              '' + str(mu) + ',\\ \\sigma=' + str(sigma) + '$')\n",
    "    # Note: there is a value lower, ths has cut some extremes\n",
    "    plt.grid(True)\n",
    "    plt.show()\n",
    "\n",
    "plot_lcs_lengths(both_label0_seq_scores)\n",
    "plot_lcs_lengths(both_label1_seq_scores)\n",
    "plot_lcs_lengths(diff_label_seq_scores)"
   ]
  },
  {
   "cell_type": "code",
   "execution_count": 21,
   "metadata": {
    "collapsed": true
   },
   "outputs": [],
   "source": [
    "import numpy as np\n",
    "\n",
    "def classify(sequence, num_comparisons,\n",
    "             num_neighbors = 3,\n",
    "             stat = 'majority_vote',\n",
    "             alignment_algorithm = 'longest_common_subsequence_score'):\n",
    "    random_promoter_indcs = np.random.choice(len(promoter_X), num_comparisons)\n",
    "    random_enhancer_indcs = np.random.choice(len(enhancer_X), num_comparisons)\n",
    "    enhancer_scores = []\n",
    "    promoter_scores = []\n",
    "    for i in range(num_comparisons):\n",
    "        enhancer = enhancer_X[random_enhancer_indcs[i],:]\n",
    "        score_enh = eval(alignment_algorithm + '(enhancer, sequence)')\n",
    "        enhancer_scores.append(score_enh)\n",
    "        promoter = promoter_X[random_promoter_indcs[i],:]   \n",
    "        score_prom = eval(alignment_algorithm + '(promoter, sequence)')\n",
    "        promoter_scores.append(score_prom)\n",
    "    promoter_scores.sort()\n",
    "    enhancer_scores.sort()    \n",
    "    votes_promoter = 0.0\n",
    "    for i in range(int(num_neighbors)):\n",
    "        if promoter_scores[i] > enhancer_scores[i]: votes_promoter += 1\n",
    "    return 0 if round(votes_promoter/num_neighbors) == 1.0 else 1"
   ]
  },
  {
   "cell_type": "code",
   "execution_count": 23,
   "metadata": {
    "collapsed": false
   },
   "outputs": [
    {
     "name": "stdout",
     "output_type": "stream",
     "text": [
      "Final accuracy: 0.79\n"
     ]
    }
   ],
   "source": [
    "# NOTE: we have to ensure we don't train using the same sequence, but this should be ok in cv setup\n",
    "errors = 0\n",
    "num_trials = 100\n",
    "for itera in range(num_trials):\n",
    "    random_idx = np.random.choice(len(X), 1)[0]\n",
    "    sequence = X[random_idx,:]\n",
    "    true_class = y[random_idx]\n",
    "    num_comparisons = 3\n",
    "    predicted_class = classify(sequence, num_comparisons)\n",
    "    if predicted_class != true_class: errors += 1\n",
    "    \n",
    "print 'Final accuracy: ' + str(1-float(errors)/num_trials)"
   ]
  }
 ],
 "metadata": {
  "kernelspec": {
   "display_name": "Python 2",
   "language": "python",
   "name": "python2"
  },
  "language_info": {
   "codemirror_mode": {
    "name": "ipython",
    "version": 2
   },
   "file_extension": ".py",
   "mimetype": "text/x-python",
   "name": "python",
   "nbconvert_exporter": "python",
   "pygments_lexer": "ipython2",
   "version": "2.7.11"
  }
 },
 "nbformat": 4,
 "nbformat_minor": 0
}
