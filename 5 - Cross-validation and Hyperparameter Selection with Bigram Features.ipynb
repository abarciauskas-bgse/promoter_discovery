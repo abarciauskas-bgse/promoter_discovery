{
 "cells": [
  {
   "cell_type": "code",
   "execution_count": 1,
   "metadata": {
    "collapsed": true
   },
   "outputs": [],
   "source": [
    "from sklearn import cross_validation\n",
    "from sklearn import linear_model\n",
    "from sklearn.grid_search import GridSearchCV, RandomizedSearchCV\n",
    "from time import time\n",
    "import csv\n",
    "\n",
    "execfile('report.py')"
   ]
  },
  {
   "cell_type": "code",
   "execution_count": 2,
   "metadata": {
    "collapsed": false
   },
   "outputs": [
    {
     "name": "stdout",
     "output_type": "stream",
     "text": [
      "('Generated X with shape ', (347698, 1000))\n",
      "('Generated y with shape ', (347698,))\n"
     ]
    }
   ],
   "source": [
    "execfile('ML_Challenge_data_preprocessing.py')"
   ]
  },
  {
   "cell_type": "code",
   "execution_count": 3,
   "metadata": {
    "collapsed": false
   },
   "outputs": [
    {
     "data": {
      "text/plain": [
       "{'AA': 0,\n",
       " 'AC': 1,\n",
       " 'AG': 2,\n",
       " 'AT': 3,\n",
       " 'CA': 4,\n",
       " 'CC': 5,\n",
       " 'CG': 6,\n",
       " 'CT': 7,\n",
       " 'GA': 8,\n",
       " 'GC': 9,\n",
       " 'GG': 10,\n",
       " 'GT': 11,\n",
       " 'TA': 12,\n",
       " 'TC': 13,\n",
       " 'TG': 14,\n",
       " 'TT': 15}"
      ]
     },
     "execution_count": 3,
     "metadata": {},
     "output_type": "execute_result"
    }
   ],
   "source": [
    "bigrams = []\n",
    "with open('possible_bigrams.csv', 'rb') as csvfile:\n",
    "    reader = csv.reader(csvfile, delimiter=',')\n",
    "    for row in reader:\n",
    "        bigrams = row\n",
    "\n",
    "bigrams.sort()\n",
    "bigrams_dict = {key: i for i, key in enumerate(bigrams)}\n",
    "bigrams_dict"
   ]
  },
  {
   "cell_type": "code",
   "execution_count": 4,
   "metadata": {
    "collapsed": false
   },
   "outputs": [
    {
     "name": "stdout",
     "output_type": "stream",
     "text": [
      "(347683, 1000)\n",
      "(347683,)\n"
     ]
    }
   ],
   "source": [
    "X2 = []\n",
    "y2 = []\n",
    "for i, x in enumerate(X):\n",
    "    if 'N' not in X[i,:]:\n",
    "        X2.append(x)\n",
    "        y2.append(y[i])\n",
    "        \n",
    "X2 = np.array(X2)\n",
    "y2 = np.array(y2)\n",
    "print X2.shape\n",
    "print y2.shape"
   ]
  },
  {
   "cell_type": "code",
   "execution_count": 29,
   "metadata": {
    "collapsed": false
   },
   "outputs": [
    {
     "name": "stdout",
     "output_type": "stream",
     "text": [
      "time spent creating new features for 20000 observations: 37.8225741386\n",
      "(20000, 16)\n",
      "(20000,)\n"
     ]
    }
   ],
   "source": [
    "execfile('ngram_features.py')\n",
    "# for every observation, create a new feature vector or length len(bigrams_dict.keys())\n",
    "\n",
    "sample_size = 20000#X.shape[0])\n",
    "\n",
    "random_sample_idcs = np.random.choice(X2.shape[0], sample_size)\n",
    "X_sample = np.zeros((sample_size, len(bigrams_dict)))\n",
    "y_sample = np.zeros((sample_size))\n",
    "\n",
    "start = time()\n",
    "\n",
    "for i in range(sample_size):\n",
    "    rand_idx = random_sample_idcs[i]    \n",
    "    X_sample[i,:] = ngram_features(X2[rand_idx,:], 2, bigrams_dict)\n",
    "    y_sample[i] = y2[rand_idx]\n",
    "\n",
    "finish = time()\n",
    "print 'time spent creating new features for {0} observations: {1}'.format(sample_size, finish - start)\n",
    "# will take about 11 minutes for the whole data set\n",
    "print X_sample.shape\n",
    "print y_sample.shape"
   ]
  },
  {
   "cell_type": "markdown",
   "metadata": {},
   "source": [
    "# Logistic Regression"
   ]
  },
  {
   "cell_type": "code",
   "execution_count": 30,
   "metadata": {
    "collapsed": false
   },
   "outputs": [
    {
     "name": "stdout",
     "output_type": "stream",
     "text": [
      "RandomizedSearchCV took 67.07 seconds for 30 candidates parameter settings.\n",
      "Model with rank: 1\n",
      "Mean validation score: 0.851 (std: 0.008)\n",
      "Parameters: {'penalty': 'l1', 'C': 100, 'solver': 'lbfgs'}\n",
      "\n",
      "Model with rank: 2\n",
      "Mean validation score: 0.851 (std: 0.008)\n",
      "Parameters: {'penalty': 'l2', 'C': 100, 'solver': 'lbfgs'}\n",
      "\n",
      "Model with rank: 3\n",
      "Mean validation score: 0.851 (std: 0.008)\n",
      "Parameters: {'penalty': 'l1', 'C': 1000, 'solver': 'lbfgs'}\n",
      "\n"
     ]
    }
   ],
   "source": [
    "param_dist = {\"penalty\": ['l1','l2'],\n",
    "              \"C\": [0.1,0.5,1.0,100,1000],\n",
    "              \"solver\": ['newton-cg', 'lbfgs', 'liblinear']}\n",
    "\n",
    "clf = linear_model.LogisticRegression()\n",
    "random_search = GridSearchCV(clf, param_grid=param_dist, cv=10)\n",
    "start = time()\n",
    "random_search.fit(X_sample, y_sample)\n",
    "print(\"RandomizedSearchCV took %.2f seconds for %d candidates\"\n",
    "      \" parameter settings.\" % ((time() - start), n_iter_search))\n",
    "report(random_search.grid_scores_)"
   ]
  },
  {
   "cell_type": "markdown",
   "metadata": {},
   "source": [
    "# SUPPORT VECTOR MACHINE - Linear"
   ]
  },
  {
   "cell_type": "code",
   "execution_count": 31,
   "metadata": {
    "collapsed": false
   },
   "outputs": [
    {
     "name": "stdout",
     "output_type": "stream",
     "text": [
      "RandomizedSearchCV took 119.50 seconds for 30 candidates parameter settings.\n",
      "Model with rank: 1\n",
      "Mean validation score: 0.850 (std: 0.006)\n",
      "Parameters: {'penalty': 'l2', 'loss': 'squared_hinge', 'C': 1.0, 'dual': False}\n",
      "\n",
      "Model with rank: 2\n",
      "Mean validation score: 0.850 (std: 0.006)\n",
      "Parameters: {'penalty': 'l2', 'loss': 'squared_hinge', 'C': 0.1, 'dual': False}\n",
      "\n",
      "Model with rank: 3\n",
      "Mean validation score: 0.850 (std: 0.006)\n",
      "Parameters: {'penalty': 'l2', 'loss': 'squared_hinge', 'C': 1000, 'dual': False}\n",
      "\n"
     ]
    }
   ],
   "source": [
    "from sklearn.svm import LinearSVC\n",
    "\n",
    "param_dist = {\"penalty\": ['l1','l2'], # 'l1' penalty not available with hinge loss\n",
    "              \"loss\": [\"squared_hinge\"],\n",
    "              \"dual\": [False],\n",
    "              \"C\": [0.1,0.5,1.0,100,1000]}\n",
    "\n",
    "clf = LinearSVC()\n",
    "random_search = GridSearchCV(clf, param_grid=param_dist, cv=10)\n",
    "start = time()\n",
    "random_search.fit(X_sample, y_sample)\n",
    "print(\"RandomizedSearchCV took %.2f seconds for %d candidates\"\n",
    "      \" parameter settings.\" % ((time() - start), n_iter_search))\n",
    "report(random_search.grid_scores_)"
   ]
  },
  {
   "cell_type": "markdown",
   "metadata": {},
   "source": [
    "# K Nearest Neighbors"
   ]
  },
  {
   "cell_type": "code",
   "execution_count": 33,
   "metadata": {
    "collapsed": false
   },
   "outputs": [
    {
     "name": "stdout",
     "output_type": "stream",
     "text": [
      "RandomizedSearchCV took 394.45 seconds for 30 candidates parameter settings.\n",
      "Model with rank: 1\n",
      "Mean validation score: 0.846 (std: 0.008)\n",
      "Parameters: {'n_neighbors': 6, 'weights': 'distance', 'leaf_size': 2, 'algorithm': 'kd_tree', 'p': 1}\n",
      "\n",
      "Model with rank: 2\n",
      "Mean validation score: 0.846 (std: 0.008)\n",
      "Parameters: {'n_neighbors': 6, 'weights': 'distance', 'leaf_size': 2, 'algorithm': 'ball_tree', 'p': 1}\n",
      "\n",
      "Model with rank: 3\n",
      "Mean validation score: 0.846 (std: 0.008)\n",
      "Parameters: {'n_neighbors': 6, 'weights': 'distance', 'leaf_size': 30, 'algorithm': 'ball_tree', 'p': 1}\n",
      "\n"
     ]
    }
   ],
   "source": [
    "from sklearn import neighbors\n",
    "\n",
    "param_dist = {\"n_neighbors\": range(3,9,3),\n",
    "              \"weights\": [\"uniform\", \"distance\"],\n",
    "              \"algorithm\": [\"ball_tree\", \"kd_tree\"],\n",
    "              \"leaf_size\": [2,5,30],\n",
    "              \"p\": [1,2]}\n",
    "\n",
    "clf = neighbors.KNeighborsClassifier()\n",
    "random_search = GridSearchCV(clf, param_grid=param_dist, cv=10)\n",
    "start = time()\n",
    "random_search.fit(X_sample, y_sample)\n",
    "print(\"RandomizedSearchCV took %.2f seconds for %d candidates\"\n",
    "      \" parameter settings.\" % ((time() - start), n_iter_search))\n",
    "report(random_search.grid_scores_)"
   ]
  },
  {
   "cell_type": "markdown",
   "metadata": {},
   "source": [
    "# Adaboost"
   ]
  },
  {
   "cell_type": "code",
   "execution_count": 34,
   "metadata": {
    "collapsed": false
   },
   "outputs": [
    {
     "name": "stdout",
     "output_type": "stream",
     "text": [
      "RandomizedSearchCV took 3.25 seconds for 30 candidates parameter settings.\n",
      "Model with rank: 1\n",
      "Mean validation score: 0.835 (std: 0.008)\n",
      "Parameters: {'n_estimators': 2, 'learning_rate': 0.10000000000000001}\n",
      "\n",
      "Model with rank: 2\n",
      "Mean validation score: 0.835 (std: 0.008)\n",
      "Parameters: {'n_estimators': 2, 'learning_rate': 0.20000000000000001}\n",
      "\n",
      "Model with rank: 3\n",
      "Mean validation score: 0.835 (std: 0.008)\n",
      "Parameters: {'n_estimators': 2, 'learning_rate': 0.30000000000000004}\n",
      "\n"
     ]
    }
   ],
   "source": [
    "from sklearn.ensemble import AdaBoostClassifier\n",
    "\n",
    "param_dist = {\"n_estimators\": range(2,102,102),\n",
    "              \"learning_rate\": np.arange(0.1,1.0,0.1)}\n",
    "\n",
    "clf = AdaBoostClassifier()\n",
    "random_search = GridSearchCV(clf, param_grid=param_dist, cv=10)\n",
    "start = time()\n",
    "random_search.fit(X_sample, y_sample)\n",
    "print(\"RandomizedSearchCV took %.2f seconds for %d candidates\"\n",
    "      \" parameter settings.\" % ((time() - start), n_iter_search))\n",
    "report(random_search.grid_scores_)"
   ]
  },
  {
   "cell_type": "markdown",
   "metadata": {},
   "source": [
    "# Final Classifier"
   ]
  },
  {
   "cell_type": "code",
   "execution_count": 64,
   "metadata": {
    "collapsed": false
   },
   "outputs": [
    {
     "name": "stdout",
     "output_type": "stream",
     "text": [
      "time spent creating new features for 347683 observations: 667.224198103\n",
      "(347683, 16)\n",
      "(347683,)\n"
     ]
    }
   ],
   "source": [
    "X_new = np.zeros((X2.shape[0], len(bigrams_dict)))\n",
    "start = time()\n",
    "\n",
    "for i in range(X2.shape[0]):\n",
    "    X_new[i,:] = ngram_features(X2[i,:], 2, bigrams_dict)\n",
    "\n",
    "finish = time()\n",
    "print('time spent creating new features for {0} observations: {1}'.format(X_new.shape[0], finish - start))\n",
    "# will take about 11 minutes for the whole data set\n",
    "print(X_new.shape)\n",
    "print(y2.shape)"
   ]
  },
  {
   "cell_type": "code",
   "execution_count": 65,
   "metadata": {
    "collapsed": false
   },
   "outputs": [
    {
     "name": "stdout",
     "output_type": "stream",
     "text": [
      "Total time: 22.7128388882\n"
     ]
    }
   ],
   "source": [
    "start = time()\n",
    "clf = linear_model.LogisticRegression(penalty = 'l2', C = 100, solver = 'lbfgs')\n",
    "scores = cross_validation.cross_val_score(clf, X_new, y2, cv=10)\n",
    "finish = time()\n",
    "\n",
    "print(\"Total time: \" + str(finish-start))"
   ]
  },
  {
   "cell_type": "code",
   "execution_count": 66,
   "metadata": {
    "collapsed": false
   },
   "outputs": [
    {
     "data": {
      "text/plain": [
       "0.8515719147846571"
      ]
     },
     "execution_count": 66,
     "metadata": {},
     "output_type": "execute_result"
    }
   ],
   "source": [
    "np.mean(scores)"
   ]
  },
  {
   "cell_type": "code",
   "execution_count": 84,
   "metadata": {
    "collapsed": false
   },
   "outputs": [
    {
     "data": {
      "text/plain": [
       "LogisticRegression(C=100, class_weight=None, dual=False, fit_intercept=True,\n",
       "          intercept_scaling=1, max_iter=100, multi_class='ovr',\n",
       "          penalty='l2', random_state=None, solver='lbfgs', tol=0.0001,\n",
       "          verbose=0)"
      ]
     },
     "execution_count": 84,
     "metadata": {},
     "output_type": "execute_result"
    }
   ],
   "source": [
    "clf.fit(X_new,y2)"
   ]
  },
  {
   "cell_type": "code",
   "execution_count": 100,
   "metadata": {
    "collapsed": false
   },
   "outputs": [
    {
     "name": "stdout",
     "output_type": "stream",
     "text": [
      "| Bigram   |   Coefficient |\n",
      "|:---------|--------------:|\n",
      "| AA       |        -0.002 |\n",
      "| AC       |        -0.021 |\n",
      "| GT       |        -0.02  |\n",
      "| AG       |        -0.004 |\n",
      "| CC       |         0.03  |\n",
      "| CA       |         0.003 |\n",
      "| CG       |        -0.068 |\n",
      "| TT       |        -0.015 |\n",
      "| GG       |         0.004 |\n",
      "| GC       |         0.006 |\n",
      "| AT       |         0.004 |\n",
      "| GA       |        -0.019 |\n",
      "| TG       |         0.023 |\n",
      "| TA       |        -0.002 |\n",
      "| TC       |         0.026 |\n",
      "| CT       |        -0.002 |\n"
     ]
    }
   ],
   "source": [
    "from tabulate import tabulate\n",
    "\n",
    "coeffs = list(clf.coef_[0])\n",
    "coeffs_zipped = zip(list(bigrams_dict.keys()), map(lambda x: round(x, 3), coeffs))\n",
    "print(tabulate(coeffs_zipped, headers=['Bigram', 'Coefficient'], tablefmt=\"pipe\"))"
   ]
  }
 ],
 "metadata": {
  "kernelspec": {
   "display_name": "Python 2",
   "language": "python",
   "name": "python2"
  },
  "language_info": {
   "codemirror_mode": {
    "name": "ipython",
    "version": 2
   },
   "file_extension": ".py",
   "mimetype": "text/x-python",
   "name": "python",
   "nbconvert_exporter": "python",
   "pygments_lexer": "ipython2",
   "version": "2.7.11"
  }
 },
 "nbformat": 4,
 "nbformat_minor": 0
}
