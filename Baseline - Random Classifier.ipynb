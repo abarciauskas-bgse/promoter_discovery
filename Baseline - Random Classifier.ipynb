{
 "cells": [
  {
   "cell_type": "markdown",
   "metadata": {},
   "source": [
    "# Baseline Classifier"
   ]
  },
  {
   "cell_type": "code",
   "execution_count": 5,
   "metadata": {
    "collapsed": false
   },
   "outputs": [
    {
     "name": "stdout",
     "output_type": "stream",
     "text": [
      "('Generated X with shape ', (347698, 1000))\n",
      "('Generated y with shape ', (347698,))\n"
     ]
    }
   ],
   "source": [
    "execfile('ML_Challenge_data_preprocessing.py')"
   ]
  },
  {
   "cell_type": "markdown",
   "metadata": {},
   "source": [
    "Remove observations with unknown nucleobases (`N`)"
   ]
  },
  {
   "cell_type": "code",
   "execution_count": 6,
   "metadata": {
    "collapsed": false
   },
   "outputs": [
    {
     "name": "stdout",
     "output_type": "stream",
     "text": [
      "(347683, 1000)\n",
      "(347683,)\n"
     ]
    }
   ],
   "source": [
    "X2 = []\n",
    "y2 = []\n",
    "for i, x in enumerate(X):\n",
    "    if 'N' not in X[i,:]:\n",
    "        X2.append(x)\n",
    "        y2.append(y[i])\n",
    "        \n",
    "X2 = np.array(X2)\n",
    "y2 = np.array(y2)\n",
    "print X2.shape\n",
    "print y2.shape"
   ]
  },
  {
   "cell_type": "markdown",
   "metadata": {},
   "source": [
    "**The baseline for evaluating a classifier is a random guesses at rate of our best assumption of the true data's rate of promoter / enhancer.**"
   ]
  },
  {
   "cell_type": "code",
   "execution_count": 38,
   "metadata": {
    "collapsed": false
   },
   "outputs": [
    {
     "name": "stdout",
     "output_type": "stream",
     "text": [
      "Accuracy: 0.670156465716\n",
      "Accuracy: 0.669868844915\n",
      "Accuracy: 0.664749194662\n",
      "Accuracy: 0.665813391624\n",
      "Accuracy: 0.662218131615\n",
      "Accuracy: 0.662764611137\n",
      "Accuracy: 0.670300276116\n",
      "Accuracy: 0.668488265071\n",
      "Accuracy: 0.66814312011\n",
      "Accuracy: 0.668775885872\n",
      "Accuracy of random baseline classifier: 0.667127818684\n"
     ]
    }
   ],
   "source": [
    "# shuffle indices and partition into 10 \n",
    "import random\n",
    "import partition\n",
    "\n",
    "indics = range(X2.shape[0])\n",
    "random.shuffle(indics)\n",
    "indics_shuffled = indics\n",
    "num_splits = 10\n",
    "step_size = len(indics_shuffled)/(num_splits)\n",
    "indics_sets = [indics_shuffled[i:i+step_size] for i in range(0, len(indics_shuffled), step_size)]\n",
    "indics_sets = indics_sets[0:num_splits]\n",
    "X_partitioned, y_partitioned = partition.partition(X2, y2, indics_sets)\n",
    "accuracies = []\n",
    "\n",
    "for split_idx in range(num_splits):\n",
    "    train_idcs = list(set(range(num_splits)).difference([split_idx]))\n",
    "    train_X = X_partitioned[train_idcs,:]\n",
    "    test_X = X_partitioned[split_idx,:]\n",
    "    train_y = y_partitioned[train_idcs].flatten()\n",
    "    test_y = y_partitioned[split_idx]\n",
    "    num_promoters_train = len(filter(lambda label: label == 0, train_y))\n",
    "    prob_promoter = float(num_promoters_train)/train_y.shape[0]\n",
    "    predictions = np.random.binomial(1, 1-prob_promoter, test_y.shape[0])\n",
    "    errors = 0\n",
    "    for idx, prediction in enumerate(predictions):\n",
    "        if test_y[idx] != prediction: errors += 1\n",
    "    accuracy = 1 - float(errors)/test_y.shape[0]\n",
    "    print 'Accuracy: {0}'.format(accuracy)\n",
    "    accuracies.append(accuracy)\n",
    "\n",
    "print 'Accuracy of random baseline classifier: ' + str(np.mean(accuracies))"
   ]
  }
 ],
 "metadata": {
  "kernelspec": {
   "display_name": "Python 2",
   "language": "python",
   "name": "python2"
  },
  "language_info": {
   "codemirror_mode": {
    "name": "ipython",
    "version": 2
   },
   "file_extension": ".py",
   "mimetype": "text/x-python",
   "name": "python",
   "nbconvert_exporter": "python",
   "pygments_lexer": "ipython2",
   "version": "2.7.11"
  }
 },
 "nbformat": 4,
 "nbformat_minor": 0
}
