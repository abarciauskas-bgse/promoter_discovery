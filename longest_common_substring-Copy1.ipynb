{
 "cells": [
  {
   "cell_type": "code",
   "execution_count": 1,
   "metadata": {
    "collapsed": true
   },
   "outputs": [],
   "source": [
    "import matplotlib.mlab as mlab\n",
    "import matplotlib.pyplot as plt\n",
    "import random"
   ]
  },
  {
   "cell_type": "code",
   "execution_count": 2,
   "metadata": {
    "collapsed": false
   },
   "outputs": [
    {
     "name": "stdout",
     "output_type": "stream",
     "text": [
      "('Generated X with shape ', (347698, 1000))\n",
      "('Generated y with shape ', (347698,))\n"
     ]
    }
   ],
   "source": [
    "execfile('ML_Challenge_data_preprocessing.py')"
   ]
  },
  {
   "cell_type": "code",
   "execution_count": 3,
   "metadata": {
    "collapsed": false
   },
   "outputs": [
    {
     "name": "stdout",
     "output_type": "stream",
     "text": [
      "First 2 lables are: 0 and 0\n"
     ]
    }
   ],
   "source": [
    "first_seq_label, second_seq_label = [y[5],y[6]]\n",
    "print 'First 2 lables are: ' + str(first_seq_label) + ' and ' + str(second_seq_label)"
   ]
  },
  {
   "cell_type": "code",
   "execution_count": 5,
   "metadata": {
    "collapsed": false
   },
   "outputs": [
    {
     "name": "stdout",
     "output_type": "stream",
     "text": [
      "Start of seq1: ['T' 'T' 'G' 'G' 'C']\n",
      "Start of seq2: ['C' 'C' 'T' 'G' 'G']\n",
      "Edit distance: 497.0\n"
     ]
    }
   ],
   "source": [
    "execfile('edit_distance.py')\n",
    "seq1, seq2 = X[5], X[6]\n",
    "print 'Start of seq1: ' + str(seq1[0:5])\n",
    "print 'Start of seq2: ' + str(seq2[0:5])\n",
    "\n",
    "length = edit_distance(seq1, seq2)\n",
    "print 'Edit distance: ' + str(length)"
   ]
  },
  {
   "cell_type": "code",
   "execution_count": 6,
   "metadata": {
    "collapsed": false
   },
   "outputs": [
    {
     "name": "stdout",
     "output_type": "stream",
     "text": [
      "(274299, 1000)\n",
      "(73399, 1000)\n"
     ]
    }
   ],
   "source": [
    "num_pairs = 100\n",
    "\n",
    "# split into promotors and enhancers\n",
    "promoter_idcs = (y == 0).nonzero()[0]\n",
    "num_promoters = len(promoter_idcs)\n",
    "enhancer_idcs = (y == 1).nonzero()[0]\n",
    "num_enhancers = len(enhancer_idcs)\n",
    "assert(num_promoters + num_enhancers == X.shape[0])\n",
    "promoter_X = X[promoter_idcs,]\n",
    "enhancer_X = X[enhancer_idcs,]\n",
    "print promoter_X.shape\n",
    "print enhancer_X.shape"
   ]
  },
  {
   "cell_type": "code",
   "execution_count": 7,
   "metadata": {
    "collapsed": true
   },
   "outputs": [],
   "source": [
    "def compute_scores(num_pairs, X1, X2):\n",
    "    scores = []\n",
    "    for i in range(num_pairs):\n",
    "        if i % 10 == 0: print 'Evaluating pair ' + str(i)\n",
    "        random_idx1 = int(random.random()*X1.shape[0])\n",
    "        random_idx2 = int(random.random()*X2.shape[0])\n",
    "        # although this doesn't matter if X1 != X2\n",
    "        assert(random_idx1 != random_idx2)\n",
    "        seq1 = X1[random_idx1]\n",
    "        seq2 = X2[random_idx2]\n",
    "        score = edit_distance(seq1, seq2)\n",
    "        if i % 10 == 0: print 'Distance: ' + str(score) + \"\\n\"        \n",
    "        scores.append(score)\n",
    "    return scores"
   ]
  },
  {
   "cell_type": "code",
   "execution_count": 14,
   "metadata": {
    "collapsed": false
   },
   "outputs": [
    {
     "name": "stdout",
     "output_type": "stream",
     "text": [
      "Evaluating pair 0\n",
      "Distance: 503.0\n",
      "\n",
      "Evaluating pair 10\n",
      "Distance: 484.0\n",
      "\n",
      "Evaluating pair 20\n",
      "Distance: 498.0\n",
      "\n",
      "Evaluating pair 30\n",
      "Distance: 586.0\n",
      "\n",
      "Evaluating pair 40\n",
      "Distance: 535.0\n",
      "\n",
      "Evaluating pair 50\n",
      "Distance: 531.0\n",
      "\n",
      "Evaluating pair 60\n",
      "Distance: 553.0\n",
      "\n",
      "Evaluating pair 70\n",
      "Distance: 498.0\n",
      "\n",
      "Evaluating pair 80\n",
      "Distance: 484.0\n",
      "\n",
      "Evaluating pair 90\n",
      "Distance: 518.0\n",
      "\n",
      "[503.0, 549.0, 486.0, 558.0, 545.0, 484.0, 503.0, 521.0, 528.0, 525.0]\n"
     ]
    }
   ],
   "source": [
    "num_pairs = 100\n",
    "both_label0_seq_scores = compute_scores(num_pairs, promoter_X, promoter_X)\n",
    "print both_label0_seq_scores[0:10]"
   ]
  },
  {
   "cell_type": "code",
   "execution_count": 15,
   "metadata": {
    "collapsed": false
   },
   "outputs": [
    {
     "name": "stdout",
     "output_type": "stream",
     "text": [
      "Evaluating pair 0\n",
      "Distance: 492.0\n",
      "\n",
      "Evaluating pair 10\n",
      "Distance: 519.0\n",
      "\n",
      "Evaluating pair 20\n",
      "Distance: 510.0\n",
      "\n",
      "Evaluating pair 30\n",
      "Distance: 496.0\n",
      "\n",
      "Evaluating pair 40\n",
      "Distance: 504.0\n",
      "\n",
      "Evaluating pair 50\n",
      "Distance: 504.0\n",
      "\n",
      "Evaluating pair 60\n",
      "Distance: 533.0\n",
      "\n",
      "Evaluating pair 70\n",
      "Distance: 521.0\n",
      "\n",
      "Evaluating pair 80\n",
      "Distance: 522.0\n",
      "\n",
      "Evaluating pair 90\n",
      "Distance: 562.0\n",
      "\n",
      "[492.0, 580.0, 502.0, 524.0, 514.0, 524.0, 507.0, 512.0, 496.0, 496.0]\n"
     ]
    }
   ],
   "source": [
    "both_label1_seq_scores = compute_scores(num_pairs, enhancer_X, enhancer_X)\n",
    "print both_label1_seq_scores[0:10]"
   ]
  },
  {
   "cell_type": "code",
   "execution_count": 16,
   "metadata": {
    "collapsed": false
   },
   "outputs": [
    {
     "name": "stdout",
     "output_type": "stream",
     "text": [
      "Evaluating pair 0\n",
      "Distance: 516.0\n",
      "\n",
      "Evaluating pair 10\n",
      "Distance: 535.0\n",
      "\n",
      "Evaluating pair 20\n",
      "Distance: 579.0\n",
      "\n",
      "Evaluating pair 30\n",
      "Distance: 515.0\n",
      "\n",
      "Evaluating pair 40\n",
      "Distance: 523.0\n",
      "\n",
      "Evaluating pair 50\n",
      "Distance: 572.0\n",
      "\n",
      "Evaluating pair 60\n",
      "Distance: 500.0\n",
      "\n",
      "Evaluating pair 70\n",
      "Distance: 466.0\n",
      "\n",
      "Evaluating pair 80\n",
      "Distance: 523.0\n",
      "\n",
      "Evaluating pair 90\n",
      "Distance: 510.0\n",
      "\n",
      "[516.0, 488.0, 502.0, 531.0, 520.0, 527.0, 530.0, 526.0, 550.0, 526.0]\n"
     ]
    }
   ],
   "source": [
    "diff_label_seq_scores = compute_scores(num_pairs, promoter_X, enhancer_X)\n",
    "print diff_label_seq_scores[0:10]"
   ]
  },
  {
   "cell_type": "code",
   "execution_count": 13,
   "metadata": {
    "collapsed": false
   },
   "outputs": [
    {
     "data": {
      "image/png": "[encoded data removed]",
      "text/plain": [
       "<matplotlib.figure.Figure at 0x1188e65d0>"
      ]
     },
     "metadata": {},
     "output_type": "display_data"
    },
    {
     "data": {
      "image/png": "[encoded data removed]",
      "text/plain": [
       "<matplotlib.figure.Figure at 0x1188e6490>"
      ]
     },
     "metadata": {},
     "output_type": "display_data"
    },
    {
     "data": {
      "image/png": "[encoded data removed]",
      "text/plain": [
       "<matplotlib.figure.Figure at 0x106dd4f10>"
      ]
     },
     "metadata": {},
     "output_type": "display_data"
    }
   ],
   "source": [
    "%matplotlib inline\n",
    "\n",
    "def plot_lcs_lengths(seq_lengths):\n",
    "    n, bins, patches = plt.hist(seq_lengths, 20, normed=1, facecolor='green', alpha=0.75)\n",
    "    mu = np.mean(seq_lengths)\n",
    "    sigma = np.std(seq_lengths)\n",
    "    plt.title(r'$\\mathrm{Histogram\\ of\\ Different\\ Label\\ LCS\\ Lengths\\ :}\\ \\mu='\n",
    "              '' + str(mu) + ',\\ \\sigma=' + str(sigma) + '$')\n",
    "    # Note: there is a value lower, ths has cut some extremes\n",
    "    plt.grid(True)\n",
    "    plt.show()\n",
    "\n",
    "plot_lcs_lengths(both_label0_seq_scores)\n",
    "plot_lcs_lengths(both_label1_seq_scores)\n",
    "plot_lcs_lengths(diff_label_seq_scores)"
   ]
  }
 ],
 "metadata": {
  "kernelspec": {
   "display_name": "Python 2",
   "language": "python",
   "name": "python2"
  },
  "language_info": {
   "codemirror_mode": {
    "name": "ipython",
    "version": 2
   },
   "file_extension": ".py",
   "mimetype": "text/x-python",
   "name": "python",
   "nbconvert_exporter": "python",
   "pygments_lexer": "ipython2",
   "version": "2.7.11"
  }
 },
 "nbformat": 4,
 "nbformat_minor": 0
}
