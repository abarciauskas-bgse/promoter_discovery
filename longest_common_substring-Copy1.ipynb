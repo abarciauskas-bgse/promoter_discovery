{
 "cells": [
  {
   "cell_type": "code",
   "execution_count": 1,
   "metadata": {
    "collapsed": true
   },
   "outputs": [],
   "source": [
    "import matplotlib.mlab as mlab\n",
    "import matplotlib.pyplot as plt\n",
    "import random"
   ]
  },
  {
   "cell_type": "code",
   "execution_count": 2,
   "metadata": {
    "collapsed": false
   },
   "outputs": [
    {
     "name": "stdout",
     "output_type": "stream",
     "text": [
      "('Generated X with shape ', (347698, 1000))\n",
      "('Generated y with shape ', (347698,))\n"
     ]
    }
   ],
   "source": [
    "execfile('ML_Challenge_data_preprocessing.py')"
   ]
  },
  {
   "cell_type": "code",
   "execution_count": 3,
   "metadata": {
    "collapsed": false
   },
   "outputs": [
    {
     "name": "stdout",
     "output_type": "stream",
     "text": [
      "First 2 lables are: 0 and 0\n"
     ]
    }
   ],
   "source": [
    "first_seq_label, second_seq_label = [y[5],y[6]]\n",
    "print 'First 2 lables are: ' + str(first_seq_label) + ' and ' + str(second_seq_label)"
   ]
  },
  {
   "cell_type": "code",
   "execution_count": 4,
   "metadata": {
    "collapsed": false
   },
   "outputs": [
    {
     "name": "stdout",
     "output_type": "stream",
     "text": [
      "Start of seq1: ['T' 'T' 'G' 'G' 'C']\n",
      "Start of seq2: ['C' 'C' 'T' 'G' 'G']\n",
      "Length of longest common substring: 10.0\n"
     ]
    }
   ],
   "source": [
    "execfile('edit_distance.py')\n",
    "seq1, seq2 = X[5], X[6]\n",
    "print 'Start of seq1: ' + str(seq1[0:5])\n",
    "print 'Start of seq2: ' + str(seq2[0:5])\n",
    "\n",
    "length = edit_distance(seq1, seq2)\n",
    "print 'Length of longest common substring: ' + str(length)"
   ]
  },
  {
   "cell_type": "code",
   "execution_count": 5,
   "metadata": {
    "collapsed": false
   },
   "outputs": [
    {
     "name": "stdout",
     "output_type": "stream",
     "text": [
      "(274299, 1000)\n",
      "(73399, 1000)\n"
     ]
    }
   ],
   "source": [
    "num_pairs = 100\n",
    "both_label0_seq_lengths = []\n",
    "both_label1_seq_lengths = []\n",
    "diff_labels_seq_lengths = []\n",
    "\n",
    "# split into promotors and enhancers\n",
    "promoter_idcs = (y == 0).nonzero()[0]\n",
    "num_promoters = len(promoter_idcs)\n",
    "enhancer_idcs = (y == 1).nonzero()[0]\n",
    "num_enhancers = len(enhancer_idcs)\n",
    "assert(num_promoters + num_enhancers == X.shape[0])\n",
    "promoter_X = X[promoter_idcs,]\n",
    "enhancer_X = X[enhancer_idcs,]\n",
    "print promoter_X.shape\n",
    "print enhancer_X.shape"
   ]
  },
  {
   "cell_type": "code",
   "execution_count": 16,
   "metadata": {
    "collapsed": true
   },
   "outputs": [],
   "source": [
    "def compute_scores(num_pairs, X1, X2):\n",
    "    scores = []\n",
    "    for i in range(num_pairs):\n",
    "        if i % 10 == 0: print 'Evaluating pair ' + str(i)\n",
    "        random_idx1 = int(random.random()*X1.shape[0])\n",
    "        random_idx2 = int(random.random()*X2.shape[0])\n",
    "        # although this doesn't matter if X1 != X2\n",
    "        assert(random_idx1 != random_idx2)\n",
    "        seq1 = X1[random_idx1]\n",
    "        seq2 = X2[random_idx2]\n",
    "        score = longest_common_substring_length(seq1, seq2)\n",
    "        if i % 10 == 0: print 'Length: ' + str(score) + \"\\n\"        \n",
    "        scores.append(score)\n",
    "    return scores"
   ]
  },
  {
   "cell_type": "code",
   "execution_count": 22,
   "metadata": {
    "collapsed": false
   },
   "outputs": [
    {
     "name": "stdout",
     "output_type": "stream",
     "text": [
      "Evaluating pair 0\n",
      "Length: 14.0\n",
      "\n",
      "Evaluating pair 10\n",
      "Length: 10.0\n",
      "\n",
      "Evaluating pair 20\n",
      "Length: 12.0\n",
      "\n",
      "Evaluating pair 30\n",
      "Length: 10.0\n",
      "\n",
      "Evaluating pair 40\n",
      "Length: 11.0\n",
      "\n",
      "Evaluating pair 50\n",
      "Length: 10.0\n",
      "\n",
      "Evaluating pair 60\n",
      "Length: 11.0\n",
      "\n",
      "Evaluating pair 70\n",
      "Length: 12.0\n",
      "\n",
      "Evaluating pair 80\n",
      "Length: 11.0\n",
      "\n",
      "Evaluating pair 90\n",
      "Length: 9.0\n",
      "\n",
      "[14.0, 10.0, 9.0, 12.0, 10.0, 10.0, 12.0, 10.0, 9.0, 9.0]\n"
     ]
    }
   ],
   "source": [
    "num_pairs = 100\n",
    "both_label0_seq_scores = compute_scores(num_pairs, promoter_X, promoter_X)\n",
    "print both_label0_seq_scores[0:10]"
   ]
  },
  {
   "cell_type": "code",
   "execution_count": 23,
   "metadata": {
    "collapsed": false
   },
   "outputs": [
    {
     "name": "stdout",
     "output_type": "stream",
     "text": [
      "Evaluating pair 0\n",
      "Length: 9.0\n",
      "\n",
      "Evaluating pair 10\n",
      "Length: 10.0\n",
      "\n",
      "Evaluating pair 20\n",
      "Length: 10.0\n",
      "\n",
      "Evaluating pair 30\n",
      "Length: 9.0\n",
      "\n",
      "Evaluating pair 40\n",
      "Length: 11.0\n",
      "\n",
      "Evaluating pair 50\n",
      "Length: 10.0\n",
      "\n",
      "Evaluating pair 60\n",
      "Length: 9.0\n",
      "\n",
      "Evaluating pair 70\n",
      "Length: 12.0\n",
      "\n",
      "Evaluating pair 80\n",
      "Length: 9.0\n",
      "\n",
      "Evaluating pair 90\n",
      "Length: 11.0\n",
      "\n",
      "[9.0, 10.0, 13.0, 34.0, 10.0, 10.0, 11.0, 10.0, 9.0, 9.0]\n"
     ]
    }
   ],
   "source": [
    "both_label1_seq_scores = compute_scores(num_pairs, enhancer_X, enhancer_X)\n",
    "print both_label1_seq_scores[0:10]"
   ]
  },
  {
   "cell_type": "code",
   "execution_count": 24,
   "metadata": {
    "collapsed": false
   },
   "outputs": [
    {
     "name": "stdout",
     "output_type": "stream",
     "text": [
      "Evaluating pair 0\n",
      "Length: 9.0\n",
      "\n",
      "Evaluating pair 10\n",
      "Length: 11.0\n",
      "\n",
      "Evaluating pair 20\n",
      "Length: 10.0\n",
      "\n",
      "Evaluating pair 30\n",
      "Length: 12.0\n",
      "\n",
      "Evaluating pair 40\n",
      "Length: 13.0\n",
      "\n",
      "Evaluating pair 50\n",
      "Length: 8.0\n",
      "\n",
      "Evaluating pair 60\n",
      "Length: 10.0\n",
      "\n",
      "Evaluating pair 70\n",
      "Length: 11.0\n",
      "\n",
      "Evaluating pair 80\n",
      "Length: 8.0\n",
      "\n",
      "Evaluating pair 90\n",
      "Length: 10.0\n",
      "\n",
      "[14.0, 10.0, 9.0, 12.0, 10.0, 10.0, 12.0, 10.0, 9.0, 9.0]\n"
     ]
    }
   ],
   "source": [
    "diff_label_seq_scores = compute_scores(num_pairs, promoter_X, enhancer_X)\n",
    "print diff_label_seq_scores[0:10]"
   ]
  },
  {
   "cell_type": "code",
   "execution_count": 27,
   "metadata": {
    "collapsed": false
   },
   "outputs": [
    {
     "data": {
      "image/png": "[encoded data removed]",
      "text/plain": [
       "<matplotlib.figure.Figure at 0x11d832690>"
      ]
     },
     "metadata": {},
     "output_type": "display_data"
    },
    {
     "data": {
      "image/png": "[encoded data removed]",
      "text/plain": [
       "<matplotlib.figure.Figure at 0x11d832d90>"
      ]
     },
     "metadata": {},
     "output_type": "display_data"
    },
    {
     "data": {
      "image/png": "[encoded data removed]",
      "text/plain": [
       "<matplotlib.figure.Figure at 0x100733450>"
      ]
     },
     "metadata": {},
     "output_type": "display_data"
    }
   ],
   "source": [
    "%matplotlib inline\n",
    "\n",
    "def plot_lcs_lengths(seq_lengths):\n",
    "    n, bins, patches = plt.hist(seq_lengths, 10, normed=1, facecolor='green', alpha=0.75)\n",
    "    mu = np.mean(seq_lengths)\n",
    "    sigma = np.std(seq_lengths)\n",
    "    plt.title(r'$\\mathrm{Histogram\\ of\\ Different\\ Label\\ LCS\\ Lengths\\ :}\\ \\mu='\n",
    "              '' + str(mu) + ',\\ \\sigma=' + str(sigma) + '$')\n",
    "    # Note: there is a value lower, ths has cut some extremes\n",
    "    plt.grid(True)\n",
    "    plt.show()\n",
    "\n",
    "plot_lcs_lengths(both_label0_seq_scores)\n",
    "plot_lcs_lengths(both_label1_seq_scores)\n",
    "plot_lcs_lengths(diff_label_seq_scores)"
   ]
  }
 ],
 "metadata": {
  "kernelspec": {
   "display_name": "Python 2",
   "language": "python",
   "name": "python2"
  },
  "language_info": {
   "codemirror_mode": {
    "name": "ipython",
    "version": 2
   },
   "file_extension": ".py",
   "mimetype": "text/x-python",
   "name": "python",
   "nbconvert_exporter": "python",
   "pygments_lexer": "ipython2",
   "version": "2.7.11"
  }
 },
 "nbformat": 4,
 "nbformat_minor": 0
}
