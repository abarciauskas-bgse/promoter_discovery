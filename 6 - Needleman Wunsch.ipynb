{
 "cells": [
  {
   "cell_type": "code",
   "execution_count": 1,
   "metadata": {
    "collapsed": true
   },
   "outputs": [],
   "source": [
    "import matplotlib.mlab as mlab\n",
    "import matplotlib.pyplot as plt\n",
    "import random"
   ]
  },
  {
   "cell_type": "code",
   "execution_count": 2,
   "metadata": {
    "collapsed": false
   },
   "outputs": [
    {
     "name": "stdout",
     "output_type": "stream",
     "text": [
      "('Generated X with shape ', (347698, 1000))\n",
      "('Generated y with shape ', (347698,))\n"
     ]
    }
   ],
   "source": [
    "execfile('ML_Challenge_data_preprocessing.py')"
   ]
  },
  {
   "cell_type": "code",
   "execution_count": 3,
   "metadata": {
    "collapsed": false
   },
   "outputs": [
    {
     "name": "stdout",
     "output_type": "stream",
     "text": [
      "(347683, 1000)\n",
      "(347683,)\n"
     ]
    }
   ],
   "source": [
    "X2 = []\n",
    "y2 = []\n",
    "for i, x in enumerate(X):\n",
    "    if 'N' not in X[i,:]:\n",
    "        X2.append(x)\n",
    "        y2.append(y[i])\n",
    "        \n",
    "X2 = np.array(X2)\n",
    "y2 = np.array(y2)\n",
    "print X2.shape\n",
    "print y2.shape"
   ]
  },
  {
   "cell_type": "code",
   "execution_count": 4,
   "metadata": {
    "collapsed": false
   },
   "outputs": [
    {
     "name": "stdout",
     "output_type": "stream",
     "text": [
      "(274284, 1000)\n",
      "(73399, 1000)\n"
     ]
    }
   ],
   "source": [
    "# split into promotors and enhancers\n",
    "promoter_idcs = (y2 == 0).nonzero()[0]\n",
    "num_promoters = len(promoter_idcs)\n",
    "enhancer_idcs = (y2 == 1).nonzero()[0]\n",
    "num_enhancers = len(enhancer_idcs)\n",
    "assert(num_promoters + num_enhancers == X2.shape[0])\n",
    "promoter_X = X2[promoter_idcs,]\n",
    "enhancer_X = X2[enhancer_idcs,]\n",
    "print promoter_X.shape\n",
    "print enhancer_X.shape"
   ]
  },
  {
   "cell_type": "code",
   "execution_count": 8,
   "metadata": {
    "collapsed": true
   },
   "outputs": [],
   "source": [
    "execfile('needleman_wunsch.py')\n",
    "\n",
    "def compute_scores(num_pairs, X1, X2):\n",
    "    scores = []\n",
    "    for i in range(num_pairs):\n",
    "        if i % 10 == 0: print 'Evaluating pair ' + str(i)\n",
    "        random_idx1 = int(random.random()*X1.shape[0])\n",
    "        random_idx2 = int(random.random()*X2.shape[0])\n",
    "        # although this doesn't matter if X1 != X2\n",
    "        assert(random_idx1 != random_idx2)\n",
    "        seq1 = X1[random_idx1]\n",
    "        seq2 = X2[random_idx2]\n",
    "        score = needlman_wunsch(seq1, seq2)\n",
    "        scores.append(score)\n",
    "    return scores"
   ]
  },
  {
   "cell_type": "code",
   "execution_count": 9,
   "metadata": {
    "collapsed": false
   },
   "outputs": [
    {
     "name": "stdout",
     "output_type": "stream",
     "text": [
      "Evaluating pair 0\n",
      "Evaluating pair 10\n",
      "Evaluating pair 20\n",
      "Evaluating pair 30\n",
      "Evaluating pair 40\n",
      "Evaluating pair 50\n",
      "Evaluating pair 60\n",
      "Evaluating pair 70\n",
      "Evaluating pair 80\n",
      "Evaluating pair 90\n",
      "[140.0, 5.0, 34.0, 66.0, 53.0, 40.0, 98.0, 75.0, 82.0, 97.0]\n"
     ]
    }
   ],
   "source": [
    "num_pairs = 100\n",
    "both_label0_seq_scores = compute_scores(num_pairs, promoter_X, promoter_X)\n",
    "print both_label0_seq_scores[0:10]"
   ]
  },
  {
   "cell_type": "code",
   "execution_count": 10,
   "metadata": {
    "collapsed": false
   },
   "outputs": [
    {
     "name": "stdout",
     "output_type": "stream",
     "text": [
      "Evaluating pair 0\n",
      "Evaluating pair 10\n",
      "Evaluating pair 20\n",
      "Evaluating pair 30\n",
      "Evaluating pair 40\n",
      "Evaluating pair 50\n",
      "Evaluating pair 60\n",
      "Evaluating pair 70\n",
      "Evaluating pair 80\n",
      "Evaluating pair 90\n",
      "[70.0, 23.0, 27.0, 51.0, 65.0, 86.0, 187.0, 46.0, 86.0, 25.0]\n"
     ]
    }
   ],
   "source": [
    "both_label1_seq_scores = compute_scores(num_pairs, enhancer_X, enhancer_X)\n",
    "print both_label1_seq_scores[0:10]"
   ]
  },
  {
   "cell_type": "code",
   "execution_count": 11,
   "metadata": {
    "collapsed": false
   },
   "outputs": [
    {
     "name": "stdout",
     "output_type": "stream",
     "text": [
      "Evaluating pair 0\n",
      "Evaluating pair 10\n",
      "Evaluating pair 20\n",
      "Evaluating pair 30\n",
      "Evaluating pair 40\n",
      "Evaluating pair 50\n",
      "Evaluating pair 60\n",
      "Evaluating pair 70\n",
      "Evaluating pair 80\n",
      "Evaluating pair 90\n",
      "[62.0, 19.0, 10.0, 33.0, 25.0, 17.0, 14.0, -4.0, -48.0, -92.0]\n"
     ]
    }
   ],
   "source": [
    "diff_label_seq_scores = compute_scores(num_pairs, enhancer_X, promoter_X)\n",
    "print diff_label_seq_scores[0:10]"
   ]
  },
  {
   "cell_type": "code",
   "execution_count": 14,
   "metadata": {
    "collapsed": false
   },
   "outputs": [
    {
     "name": "stdout",
     "output_type": "stream",
     "text": [
      "Both sequences promoters\n"
     ]
    },
    {
     "data": {
      "image/png": "[encoded data removed]",
      "text/plain": [
       "<matplotlib.figure.Figure at 0x109590c10>"
      ]
     },
     "metadata": {},
     "output_type": "display_data"
    },
    {
     "name": "stdout",
     "output_type": "stream",
     "text": [
      "Both sequences enhancers\n"
     ]
    },
    {
     "data": {
      "image/png": "[encoded data removed]",
      "text/plain": [
       "<matplotlib.figure.Figure at 0x108040610>"
      ]
     },
     "metadata": {},
     "output_type": "display_data"
    },
    {
     "name": "stdout",
     "output_type": "stream",
     "text": [
      "One promoter and one enhancer\n"
     ]
    },
    {
     "data": {
      "image/png": "[encoded data removed]",
      "text/plain": [
       "<matplotlib.figure.Figure at 0x106d05ed0>"
      ]
     },
     "metadata": {},
     "output_type": "display_data"
    }
   ],
   "source": [
    "%matplotlib inline\n",
    "\n",
    "def plot_lcs_lengths(seq_lengths):\n",
    "    n, bins, patches = plt.hist(seq_lengths, 20, normed=1, facecolor='green', alpha=0.75)\n",
    "    mu = np.mean(seq_lengths)\n",
    "    sigma = np.std(seq_lengths)\n",
    "    plt.title(r'$\\mu=' + str(mu) + ',\\ \\sigma=' + str(sigma) + '$')\n",
    "    # Note: there is a value lower, ths has cut some extremes\n",
    "    plt.axis([-150,200,0,0.018])\n",
    "    plt.grid(True)\n",
    "    plt.show()\n",
    "\n",
    "print 'Both sequences promoters'\n",
    "plot_lcs_lengths(both_label0_seq_scores)\n",
    "print 'Both sequences enhancers'\n",
    "plot_lcs_lengths(both_label1_seq_scores)\n",
    "print 'One promoter and one enhancer'\n",
    "plot_lcs_lengths(diff_label_seq_scores)"
   ]
  },
  {
   "cell_type": "code",
   "execution_count": 15,
   "metadata": {
    "collapsed": true
   },
   "outputs": [],
   "source": [
    "import numpy as np\n",
    "\n",
    "# TODO: add unit tests and put in file to share\n",
    "def classify(sequence, num_comparisons,\n",
    "             num_voters = 3.0,\n",
    "             stat = 'majority_vote',\n",
    "             alignment_algorithm = 'needlman_wunsch'):\n",
    "    random_promoter_indcs = np.random.choice(len(promoter_X), num_comparisons)\n",
    "    random_enhancer_indcs = np.random.choice(len(enhancer_X), num_comparisons)\n",
    "    enhancer_scores = []\n",
    "    promoter_scores = []\n",
    "    for i in range(num_comparisons):\n",
    "        enhancer = enhancer_X[random_enhancer_indcs[i],:]\n",
    "        score_enh = eval(alignment_algorithm + '(enhancer, sequence)')\n",
    "        enhancer_scores.append(score_enh)\n",
    "        promoter = promoter_X[random_promoter_indcs[i],:]   \n",
    "        score_prom = eval(alignment_algorithm + '(promoter, sequence)')\n",
    "        promoter_scores.append(score_prom)\n",
    "    promoter_scores.sort()\n",
    "    enhancer_scores.sort()    \n",
    "    votes_promoter = 0.0\n",
    "    for i in range(int(num_voters)):\n",
    "        if promoter_scores[i] > enhancer_scores[i]: votes_promoter += 1\n",
    "    return 0 if round(votes_promoter/num_voters) == 1.0 else 1"
   ]
  },
  {
   "cell_type": "code",
   "execution_count": 19,
   "metadata": {
    "collapsed": false
   },
   "outputs": [
    {
     "name": "stdout",
     "output_type": "stream",
     "text": [
      "Final accuracy: 0.8\n",
      "Total time: 2779.904497 for 100 trials and 10 comparisons\n"
     ]
    }
   ],
   "source": [
    "import time\n",
    "\n",
    "# NOTE: we have to ensure we don't train using the same sequence, but this should be ok in cv setup\n",
    "errors = 0\n",
    "num_trials = 100\n",
    "num_comparisons = 10\n",
    "\n",
    "start = time.clock()\n",
    "for itera in range(1,num_trials+1):\n",
    "    random_idx = np.random.choice(len(X), 1)[0]\n",
    "    sequence = X[random_idx,:]\n",
    "    true_class = y[random_idx]\n",
    "    predicted_class = classify(sequence, num_comparisons)\n",
    "    if predicted_class != true_class: errors += 1\n",
    "finish = time.clock()\n",
    "\n",
    "print 'Final accuracy: ' + str(1-float(errors)/num_trials)\n",
    "print 'Total time: {0} for {1} trials and {2} comparisons'.format(finish - start, num_trials, num_comparisons)"
   ]
  }
 ],
 "metadata": {
  "kernelspec": {
   "display_name": "Python 2",
   "language": "python",
   "name": "python2"
  },
  "language_info": {
   "codemirror_mode": {
    "name": "ipython",
    "version": 2
   },
   "file_extension": ".py",
   "mimetype": "text/x-python",
   "name": "python",
   "nbconvert_exporter": "python",
   "pygments_lexer": "ipython2",
   "version": "2.7.11"
  }
 },
 "nbformat": 4,
 "nbformat_minor": 0
}
