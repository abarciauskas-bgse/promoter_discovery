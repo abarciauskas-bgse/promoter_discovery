{
 "cells": [
  {
   "cell_type": "code",
   "execution_count": 1,
   "metadata": {
    "collapsed": true
   },
   "outputs": [],
   "source": [
    "from sklearn import cross_validation\n",
    "from scikits.statsmodels.tools import categorical\n",
    "from sklearn import linear_model\n",
    "import time\n",
    "import csv"
   ]
  },
  {
   "cell_type": "code",
   "execution_count": 2,
   "metadata": {
    "collapsed": false
   },
   "outputs": [
    {
     "name": "stdout",
     "output_type": "stream",
     "text": [
      "('Generated X with shape ', (347698, 1000))\n",
      "('Generated y with shape ', (347698,))\n"
     ]
    }
   ],
   "source": [
    "execfile('ML_Challenge_data_preprocessing.py')"
   ]
  },
  {
   "cell_type": "code",
   "execution_count": 3,
   "metadata": {
    "collapsed": false
   },
   "outputs": [
    {
     "data": {
      "text/plain": [
       "{'AA': 0,\n",
       " 'AC': 1,\n",
       " 'AG': 2,\n",
       " 'AT': 3,\n",
       " 'CA': 4,\n",
       " 'CC': 5,\n",
       " 'CG': 6,\n",
       " 'CT': 7,\n",
       " 'GA': 8,\n",
       " 'GC': 9,\n",
       " 'GG': 10,\n",
       " 'GT': 11,\n",
       " 'TA': 12,\n",
       " 'TC': 13,\n",
       " 'TG': 14,\n",
       " 'TT': 15}"
      ]
     },
     "execution_count": 3,
     "metadata": {},
     "output_type": "execute_result"
    }
   ],
   "source": [
    "bigrams = []\n",
    "with open('possible_bigrams.csv', 'rb') as csvfile:\n",
    "    reader = csv.reader(csvfile, delimiter=',')\n",
    "    for row in reader:\n",
    "        bigrams = row\n",
    "\n",
    "bigrams.sort()\n",
    "bigrams_dict = {key: i for i, key in enumerate(bigrams)}\n",
    "bigrams_dict"
   ]
  },
  {
   "cell_type": "code",
   "execution_count": 14,
   "metadata": {
    "collapsed": false
   },
   "outputs": [
    {
     "name": "stdout",
     "output_type": "stream",
     "text": [
      "(347683, 1000)\n"
     ]
    }
   ],
   "source": [
    "# Remove bad data\n",
    "X = np.array(filter(lambda x: 'N' not in x, X))\n",
    "print X.shape"
   ]
  },
  {
   "cell_type": "code",
   "execution_count": 32,
   "metadata": {
    "collapsed": false
   },
   "outputs": [
    {
     "name": "stdout",
     "output_type": "stream",
     "text": [
      "(10000, 4016)\n",
      "time spent creating new features for 10000 observations: 29.014793\n",
      "(10000, 4016)\n",
      "[ 15.  31.  59. ...,   1.   0.   0.]\n"
     ]
    }
   ],
   "source": [
    "import time\n",
    "execfile('ngram_features.py')\n",
    "# for every observation, create a new feature vector or length len(bigrams_dict.keys())\n",
    "\n",
    "sample_size = 10000#X.shape[0])\n",
    "num_pair_types = 4\n",
    "start = time.clock()\n",
    "newX = np.zeros((sample_size, len(bigrams_dict) + num_pair_types*X.shape[1]))\n",
    "print newX.shape\n",
    "for i in range(sample_size):\n",
    "    one_hot = categorical(X[i], drop = True)\n",
    "    one_hot = one_hot.flatten()\n",
    "    ngram_features_x = ngram_features(X[i,:], 2, bigrams_dict)\n",
    "    newobs = ngram_features_x + list(one_hot)\n",
    "    newX[i,:] = newobs\n",
    "finish = time.clock()\n",
    "print 'time spent creating new features for {0} observations: {1}'.format(sample_size, finish - start)\n",
    "# will take about 11 minutes for the whole data set\n",
    "print newX.shape\n",
    "print newX[0,:]"
   ]
  },
  {
   "cell_type": "code",
   "execution_count": 33,
   "metadata": {
    "collapsed": false
   },
   "outputs": [
    {
     "name": "stdout",
     "output_type": "stream",
     "text": [
      "(9000, 4016)\n",
      "(9000,)\n"
     ]
    }
   ],
   "source": [
    "test_size = 0.1\n",
    "y_sample = y[0:sample_size]\n",
    "X_train, X_test, y_train, y_test = cross_validation.train_test_split(\n",
    "    newX, y_sample, test_size=test_size, random_state=0)\n",
    "print X_train.shape\n",
    "print y_train.shape"
   ]
  },
  {
   "cell_type": "code",
   "execution_count": 38,
   "metadata": {
    "collapsed": false
   },
   "outputs": [
    {
     "name": "stdout",
     "output_type": "stream",
     "text": [
      "time spent to train 0.9: 13.278779 seconds.\n"
     ]
    }
   ],
   "source": [
    "import time\n",
    "\n",
    "start_time = time.clock()\n",
    "logreg = linear_model.LogisticRegression()\n",
    "logreg.fit(X_train, y_train)\n",
    "end_time = time.clock()\n",
    "\n",
    "print 'time spent to train ' + str(1 - test_size) + ': ' + str(end_time - start_time) + ' seconds.'"
   ]
  },
  {
   "cell_type": "code",
   "execution_count": 39,
   "metadata": {
    "collapsed": false
   },
   "outputs": [
    {
     "data": {
      "text/plain": [
       "0.872"
      ]
     },
     "execution_count": 39,
     "metadata": {},
     "output_type": "execute_result"
    }
   ],
   "source": [
    "logreg.score(X_test, y_test)"
   ]
  },
  {
   "cell_type": "code",
   "execution_count": null,
   "metadata": {
    "collapsed": false
   },
   "outputs": [],
   "source": [
    "from sklearn.svm import SVC\n",
    "\n",
    "start_time = time.clock()\n",
    "# linear seems best so far achieving up to 0.89\n",
    "clf = SVC(kernel = 'poly')\n",
    "print clf.fit(X_train, y_train)\n",
    "end_time = time.clock()\n",
    "\n",
    "print 'time spent to train ' + str(1 - test_size) + ': ' + str(end_time - start_time) + ' seconds.'"
   ]
  },
  {
   "cell_type": "code",
   "execution_count": 57,
   "metadata": {
    "collapsed": false
   },
   "outputs": [
    {
     "data": {
      "text/plain": [
       "0.89100000000000001"
      ]
     },
     "execution_count": 57,
     "metadata": {},
     "output_type": "execute_result"
    }
   ],
   "source": [
    "clf.score(X_test, y_test)"
   ]
  },
  {
   "cell_type": "code",
   "execution_count": 40,
   "metadata": {
    "collapsed": false
   },
   "outputs": [
    {
     "name": "stdout",
     "output_type": "stream",
     "text": [
      "DecisionTreeClassifier(class_weight=None, criterion='gini', max_depth=5,\n",
      "            max_features=None, max_leaf_nodes=None, min_samples_leaf=1,\n",
      "            min_samples_split=2, min_weight_fraction_leaf=0.0,\n",
      "            random_state=None, splitter='best')\n",
      "time spent to train 0.9: 4.739286 seconds.\n"
     ]
    }
   ],
   "source": [
    "from sklearn.tree import DecisionTreeClassifier\n",
    "\n",
    "start_time = time.clock()\n",
    "clf = DecisionTreeClassifier(max_depth=5)\n",
    "print clf.fit(X_train, y_train)\n",
    "end_time = time.clock()\n",
    "\n",
    "print 'time spent to train ' + str(1 - test_size) + ': ' + str(end_time - start_time) + ' seconds.'"
   ]
  },
  {
   "cell_type": "code",
   "execution_count": 41,
   "metadata": {
    "collapsed": false
   },
   "outputs": [
    {
     "data": {
      "text/plain": [
       "0.88300000000000001"
      ]
     },
     "execution_count": 41,
     "metadata": {},
     "output_type": "execute_result"
    }
   ],
   "source": [
    "clf.score(X_test, y_test)"
   ]
  },
  {
   "cell_type": "code",
   "execution_count": 42,
   "metadata": {
    "collapsed": false
   },
   "outputs": [
    {
     "name": "stdout",
     "output_type": "stream",
     "text": [
      "AdaBoostClassifier(algorithm='SAMME.R', base_estimator=None, learning_rate=1,\n",
      "          n_estimators=25, random_state=None)\n",
      "time spent to train 0.9: 20.174767 seconds.\n"
     ]
    }
   ],
   "source": [
    "from sklearn.ensemble import AdaBoostClassifier\n",
    "\n",
    "start_time = time.clock()\n",
    "clf = AdaBoostClassifier(n_estimators=25, learning_rate=1)\n",
    "print clf.fit(X_train, y_train)\n",
    "end_time = time.clock()\n",
    "\n",
    "print 'time spent to train ' + str(1 - test_size) + ': ' + str(end_time - start_time) + ' seconds.'"
   ]
  },
  {
   "cell_type": "code",
   "execution_count": 43,
   "metadata": {
    "collapsed": false
   },
   "outputs": [
    {
     "data": {
      "text/plain": [
       "0.86199999999999999"
      ]
     },
     "execution_count": 43,
     "metadata": {},
     "output_type": "execute_result"
    }
   ],
   "source": [
    "clf.score(X_test, y_test)"
   ]
  },
  {
   "cell_type": "code",
   "execution_count": 48,
   "metadata": {
    "collapsed": false
   },
   "outputs": [
    {
     "name": "stdout",
     "output_type": "stream",
     "text": [
      "RandomForestClassifier(bootstrap=True, class_weight=None, criterion='entropy',\n",
      "            max_depth=None, max_features='auto', max_leaf_nodes=None,\n",
      "            min_samples_leaf=1, min_samples_split=2,\n",
      "            min_weight_fraction_leaf=0.0, n_estimators=50, n_jobs=1,\n",
      "            oob_score=False, random_state=None, verbose=0,\n",
      "            warm_start=False)\n",
      "time spent to train 0.9: 4.580618 seconds.\n"
     ]
    }
   ],
   "source": [
    "from sklearn.ensemble import RandomForestClassifier\n",
    "\n",
    "start_time = time.clock()\n",
    "clf = RandomForestClassifier(n_estimators=50, criterion='entropy')\n",
    "print clf.fit(X_train, y_train)\n",
    "end_time = time.clock()\n",
    "\n",
    "print 'time spent to train ' + str(1 - test_size) + ': ' + str(end_time - start_time) + ' seconds.'"
   ]
  },
  {
   "cell_type": "code",
   "execution_count": 49,
   "metadata": {
    "collapsed": false
   },
   "outputs": [
    {
     "data": {
      "text/plain": [
       "0.86499999999999999"
      ]
     },
     "execution_count": 49,
     "metadata": {},
     "output_type": "execute_result"
    }
   ],
   "source": [
    "clf.score(X_test, y_test)"
   ]
  },
  {
   "cell_type": "code",
   "execution_count": 95,
   "metadata": {
    "collapsed": false
   },
   "outputs": [
    {
     "name": "stdout",
     "output_type": "stream",
     "text": [
      "GaussianNB()\n",
      "time spent to train 0.9: 0.00417899999999 seconds.\n"
     ]
    }
   ],
   "source": [
    "from sklearn.naive_bayes import GaussianNB\n",
    "\n",
    "start_time = time.clock()\n",
    "clf = GaussianNB()\n",
    "print clf.fit(X_train, y_train)\n",
    "end_time = time.clock()\n",
    "\n",
    "print 'time spent to train ' + str(1 - test_size) + ': ' + str(end_time - start_time) + ' seconds.'"
   ]
  },
  {
   "cell_type": "code",
   "execution_count": 96,
   "metadata": {
    "collapsed": false
   },
   "outputs": [
    {
     "data": {
      "text/plain": [
       "0.86399999999999999"
      ]
     },
     "execution_count": 96,
     "metadata": {},
     "output_type": "execute_result"
    }
   ],
   "source": [
    "clf.score(X_test, y_test)"
   ]
  },
  {
   "cell_type": "code",
   "execution_count": 100,
   "metadata": {
    "collapsed": false
   },
   "outputs": [
    {
     "name": "stdout",
     "output_type": "stream",
     "text": [
      "Accuracy for 3 neighbors: 0.897\n",
      "Time spent calculating neighbors: 0.099258\n",
      "\n",
      "Accuracy for 6 neighbors: 0.889\n",
      "Time spent calculating neighbors: 0.08288\n",
      "\n",
      "Accuracy for 9 neighbors: 0.884\n",
      "Time spent calculating neighbors: 0.103587\n",
      "\n",
      "Accuracy for 12 neighbors: 0.881\n",
      "Time spent calculating neighbors: 0.109193\n",
      "\n",
      "Accuracy for 15 neighbors: 0.886\n",
      "Time spent calculating neighbors: 0.1285\n",
      "\n",
      "Accuracy for 18 neighbors: 0.887\n",
      "Time spent calculating neighbors: 0.135845\n",
      "\n",
      "Accuracy for 21 neighbors: 0.888\n",
      "Time spent calculating neighbors: 0.22269\n",
      "\n",
      "Accuracy for 24 neighbors: 0.89\n",
      "Time spent calculating neighbors: 0.15002\n",
      "\n",
      "Accuracy for 27 neighbors: 0.89\n",
      "Time spent calculating neighbors: 0.200593\n",
      "\n",
      "Accuracy for 30 neighbors: 0.89\n",
      "Time spent calculating neighbors: 0.193924\n",
      "\n",
      "Accuracy for 33 neighbors: 0.891\n",
      "Time spent calculating neighbors: 0.13983\n",
      "\n",
      "Accuracy for 36 neighbors: 0.894\n",
      "Time spent calculating neighbors: 0.137444\n",
      "\n",
      "Accuracy for 39 neighbors: 0.891\n",
      "Time spent calculating neighbors: 0.143478\n",
      "\n",
      "Accuracy for 42 neighbors: 0.89\n",
      "Time spent calculating neighbors: 0.166171\n",
      "\n",
      "Accuracy for 45 neighbors: 0.888\n",
      "Time spent calculating neighbors: 0.162577\n",
      "\n",
      "Accuracy for 48 neighbors: 0.888\n",
      "Time spent calculating neighbors: 0.138448\n",
      "\n",
      "Accuracy for 51 neighbors: 0.889\n",
      "Time spent calculating neighbors: 0.147715\n",
      "\n",
      "Accuracy for 54 neighbors: 0.887\n",
      "Time spent calculating neighbors: 0.148138\n",
      "\n",
      "Accuracy for 57 neighbors: 0.888\n",
      "Time spent calculating neighbors: 0.146547\n",
      "\n",
      "Accuracy for 60 neighbors: 0.888\n",
      "Time spent calculating neighbors: 0.147199\n",
      "\n",
      "Accuracy for 63 neighbors: 0.886\n",
      "Time spent calculating neighbors: 0.171369\n",
      "\n",
      "Accuracy for 66 neighbors: 0.886\n",
      "Time spent calculating neighbors: 0.155602\n",
      "\n",
      "Accuracy for 69 neighbors: 0.888\n",
      "Time spent calculating neighbors: 0.156982\n",
      "\n",
      "Accuracy for 72 neighbors: 0.89\n",
      "Time spent calculating neighbors: 0.213004\n",
      "\n",
      "Accuracy for 75 neighbors: 0.891\n",
      "Time spent calculating neighbors: 0.252984\n",
      "\n",
      "Accuracy for 78 neighbors: 0.89\n",
      "Time spent calculating neighbors: 0.165077\n",
      "\n",
      "Accuracy for 81 neighbors: 0.89\n",
      "Time spent calculating neighbors: 0.161588\n",
      "\n",
      "Accuracy for 84 neighbors: 0.892\n",
      "Time spent calculating neighbors: 0.178625\n",
      "\n",
      "Accuracy for 87 neighbors: 0.892\n",
      "Time spent calculating neighbors: 0.259993\n",
      "\n",
      "Accuracy for 90 neighbors: 0.89\n",
      "Time spent calculating neighbors: 0.189852\n",
      "\n",
      "Accuracy for 93 neighbors: 0.888\n",
      "Time spent calculating neighbors: 0.274652\n",
      "\n",
      "Accuracy for 96 neighbors: 0.889\n",
      "Time spent calculating neighbors: 0.223695\n",
      "\n",
      "Accuracy for 99 neighbors: 0.889\n",
      "Time spent calculating neighbors: 0.182654\n",
      "\n"
     ]
    }
   ],
   "source": [
    "from sklearn import neighbors\n",
    "\n",
    "max_neighbors=100\n",
    "inc_by = 3\n",
    "# starting from 2 - 20 neighbors went approximately linearly from 0.83 to 0.877\n",
    "num_neighbors = range(3,max_neighbors,inc_by)\n",
    "accuracies = []\n",
    "for k in num_neighbors:\n",
    "    clf = neighbors.KNeighborsClassifier(k)#, weights='distance')\n",
    "    clf.fit(X_train, y_train)\n",
    "    start_fit = time.clock()\n",
    "    score = clf.score(X_test, y_test)\n",
    "    finish_fit = time.clock()\n",
    "    accuracies.append(score)    \n",
    "    print 'Accuracy for ' + str(k) + ' neighbors: ' + str(score)\n",
    "    print 'Time spent calculating neighbors: ' + str(finish_fit - start_fit)\n",
    "    print ''"
   ]
  }
 ],
 "metadata": {
  "kernelspec": {
   "display_name": "Python 2",
   "language": "python",
   "name": "python2"
  },
  "language_info": {
   "codemirror_mode": {
    "name": "ipython",
    "version": 2
   },
   "file_extension": ".py",
   "mimetype": "text/x-python",
   "name": "python",
   "nbconvert_exporter": "python",
   "pygments_lexer": "ipython2",
   "version": "2.7.11"
  }
 },
 "nbformat": 4,
 "nbformat_minor": 0
}
